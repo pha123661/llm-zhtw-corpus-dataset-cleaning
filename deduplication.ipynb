{
 "cells": [
  {
   "cell_type": "code",
   "execution_count": 29,
   "metadata": {},
   "outputs": [],
   "source": [
    "from datasets import load_dataset, load_from_disk, concatenate_datasets"
   ]
  },
  {
   "cell_type": "code",
   "execution_count": 7,
   "metadata": {},
   "outputs": [
    {
     "name": "stdout",
     "output_type": "stream",
     "text": [
      "Filter (num_proc=40): 100%|█| 1067358/1067358 [00:07<00:00, 148764.82 examples/s\n",
      "Fingerprinting... (num_proc=40): 100%|█| 1067354/1067354 [02:23<00:00, 7432.11 e\n",
      "Iterating MinHashes...: 100%|█████████████████| 107/107 [01:19<00:00,  1.35it/s]\n",
      "\u001b[2;36m[05/06/24 20:10:41]\u001b[0m\u001b[2;36m \u001b[0m\u001b[34mINFO    \u001b[0m Number of clusters: \u001b[1;36m25\u001b[0m               \u001b]8;id=126081;file:///disks/local/c.4t_4/oscar/zhtw-dataset-cleaning/.venv/lib/python3.10/site-packages/text_dedup/minhash.py\u001b\\\u001b[2mminhash.py\u001b[0m\u001b]8;;\u001b\\\u001b[2m:\u001b[0m\u001b]8;id=344651;file:///disks/local/c.4t_4/oscar/zhtw-dataset-cleaning/.venv/lib/python3.10/site-packages/text_dedup/minhash.py#265\u001b\\\u001b[2m265\u001b[0m\u001b]8;;\u001b\\\n",
      "Clustering...: 100%|████████████████████████████| 25/25 [00:09<00:00,  2.52it/s]\n",
      "\u001b[2;36m[05/06/24 20:10:52]\u001b[0m\u001b[2;36m \u001b[0m\u001b[34mINFO    \u001b[0m Number of edges: \u001b[1;36m203131\u001b[0m              \u001b]8;id=128062;file:///disks/local/c.4t_4/oscar/zhtw-dataset-cleaning/.venv/lib/python3.10/site-packages/text_dedup/minhash.py\u001b\\\u001b[2mminhash.py\u001b[0m\u001b]8;;\u001b\\\u001b[2m:\u001b[0m\u001b]8;id=15701;file:///disks/local/c.4t_4/oscar/zhtw-dataset-cleaning/.venv/lib/python3.10/site-packages/text_dedup/minhash.py#275\u001b\\\u001b[2m275\u001b[0m\u001b]8;;\u001b\\\n",
      "Finding clusters... (num_proc=40): 100%|█| 1067354/1067354 [00:06<00:00, 154794.\n",
      "Filtering clusters... (num_proc=40): 100%|█| 1067354/1067354 [00:01<00:00, 73967\n",
      "Saving the dataset (8/8 shards): 100%|█| 962431/962431 [00:08<00:00, 114413.33 e\n",
      "\u001b[2;36m[05/06/24 20:11:21]\u001b[0m\u001b[2;36m \u001b[0m\u001b[34mINFO    \u001b[0m Loading                         :       \u001b]8;id=680575;file:///disks/local/c.4t_4/oscar/zhtw-dataset-cleaning/.venv/lib/python3.10/site-packages/text_dedup/utils/timer.py\u001b\\\u001b[2mtimer.py\u001b[0m\u001b]8;;\u001b\\\u001b[2m:\u001b[0m\u001b]8;id=195867;file:///disks/local/c.4t_4/oscar/zhtw-dataset-cleaning/.venv/lib/python3.10/site-packages/text_dedup/utils/timer.py#65\u001b\\\u001b[2m65\u001b[0m\u001b]8;;\u001b\\\n",
      "\u001b[2;36m                    \u001b[0m         \u001b[1;36m13.\u001b[0m38s                                  \u001b[2m           \u001b[0m\n",
      "\u001b[2;36m                   \u001b[0m\u001b[2;36m \u001b[0m\u001b[34mINFO    \u001b[0m MinHashing                      :       \u001b]8;id=142600;file:///disks/local/c.4t_4/oscar/zhtw-dataset-cleaning/.venv/lib/python3.10/site-packages/text_dedup/utils/timer.py\u001b\\\u001b[2mtimer.py\u001b[0m\u001b]8;;\u001b\\\u001b[2m:\u001b[0m\u001b]8;id=471070;file:///disks/local/c.4t_4/oscar/zhtw-dataset-cleaning/.venv/lib/python3.10/site-packages/text_dedup/utils/timer.py#65\u001b\\\u001b[2m65\u001b[0m\u001b]8;;\u001b\\\n",
      "\u001b[2;36m                    \u001b[0m         \u001b[1;36m144.\u001b[0m08s                                 \u001b[2m           \u001b[0m\n",
      "\u001b[2;36m                   \u001b[0m\u001b[2;36m \u001b[0m\u001b[34mINFO    \u001b[0m Clustering                      :       \u001b]8;id=274727;file:///disks/local/c.4t_4/oscar/zhtw-dataset-cleaning/.venv/lib/python3.10/site-packages/text_dedup/utils/timer.py\u001b\\\u001b[2mtimer.py\u001b[0m\u001b]8;;\u001b\\\u001b[2m:\u001b[0m\u001b]8;id=915658;file:///disks/local/c.4t_4/oscar/zhtw-dataset-cleaning/.venv/lib/python3.10/site-packages/text_dedup/utils/timer.py#65\u001b\\\u001b[2m65\u001b[0m\u001b]8;;\u001b\\\n",
      "\u001b[2;36m                    \u001b[0m         \u001b[1;36m89.\u001b[0m54s                                  \u001b[2m           \u001b[0m\n",
      "\u001b[2;36m                   \u001b[0m\u001b[2;36m \u001b[0m\u001b[34mINFO    \u001b[0m Filtering                       :       \u001b]8;id=779125;file:///disks/local/c.4t_4/oscar/zhtw-dataset-cleaning/.venv/lib/python3.10/site-packages/text_dedup/utils/timer.py\u001b\\\u001b[2mtimer.py\u001b[0m\u001b]8;;\u001b\\\u001b[2m:\u001b[0m\u001b]8;id=992189;file:///disks/local/c.4t_4/oscar/zhtw-dataset-cleaning/.venv/lib/python3.10/site-packages/text_dedup/utils/timer.py#65\u001b\\\u001b[2m65\u001b[0m\u001b]8;;\u001b\\\n",
      "\u001b[2;36m                    \u001b[0m         \u001b[1;36m19.\u001b[0m91s                                  \u001b[2m           \u001b[0m\n",
      "\u001b[2;36m                   \u001b[0m\u001b[2;36m \u001b[0m\u001b[34mINFO    \u001b[0m Saving                          : \u001b[1;36m8.\u001b[0m48s \u001b]8;id=286123;file:///disks/local/c.4t_4/oscar/zhtw-dataset-cleaning/.venv/lib/python3.10/site-packages/text_dedup/utils/timer.py\u001b\\\u001b[2mtimer.py\u001b[0m\u001b]8;;\u001b\\\u001b[2m:\u001b[0m\u001b]8;id=369140;file:///disks/local/c.4t_4/oscar/zhtw-dataset-cleaning/.venv/lib/python3.10/site-packages/text_dedup/utils/timer.py#65\u001b\\\u001b[2m65\u001b[0m\u001b]8;;\u001b\\\n",
      "\u001b[2;36m                   \u001b[0m\u001b[2;36m \u001b[0m\u001b[34mINFO    \u001b[0m Cleaning                        : \u001b[1;36m0.\u001b[0m62s \u001b]8;id=321235;file:///disks/local/c.4t_4/oscar/zhtw-dataset-cleaning/.venv/lib/python3.10/site-packages/text_dedup/utils/timer.py\u001b\\\u001b[2mtimer.py\u001b[0m\u001b]8;;\u001b\\\u001b[2m:\u001b[0m\u001b]8;id=815637;file:///disks/local/c.4t_4/oscar/zhtw-dataset-cleaning/.venv/lib/python3.10/site-packages/text_dedup/utils/timer.py#65\u001b\\\u001b[2m65\u001b[0m\u001b]8;;\u001b\\\n",
      "\u001b[2;36m                   \u001b[0m\u001b[2;36m \u001b[0m\u001b[34mINFO    \u001b[0m Total                           :       \u001b]8;id=611789;file:///disks/local/c.4t_4/oscar/zhtw-dataset-cleaning/.venv/lib/python3.10/site-packages/text_dedup/utils/timer.py\u001b\\\u001b[2mtimer.py\u001b[0m\u001b]8;;\u001b\\\u001b[2m:\u001b[0m\u001b]8;id=434365;file:///disks/local/c.4t_4/oscar/zhtw-dataset-cleaning/.venv/lib/python3.10/site-packages/text_dedup/utils/timer.py#65\u001b\\\u001b[2m65\u001b[0m\u001b]8;;\u001b\\\n",
      "\u001b[2;36m                    \u001b[0m         \u001b[1;36m276.\u001b[0m01s                                 \u001b[2m           \u001b[0m\n",
      "\u001b[2;36m                   \u001b[0m\u001b[2;36m \u001b[0m\u001b[34mINFO    \u001b[0m Before                          :    \u001b]8;id=109359;file:///disks/local/c.4t_4/oscar/zhtw-dataset-cleaning/.venv/lib/python3.10/site-packages/text_dedup/minhash.py\u001b\\\u001b[2mminhash.py\u001b[0m\u001b]8;;\u001b\\\u001b[2m:\u001b[0m\u001b]8;id=853460;file:///disks/local/c.4t_4/oscar/zhtw-dataset-cleaning/.venv/lib/python3.10/site-packages/text_dedup/minhash.py#308\u001b\\\u001b[2m308\u001b[0m\u001b]8;;\u001b\\\n",
      "\u001b[2;36m                    \u001b[0m         \u001b[1;36m1067354\u001b[0m                              \u001b[2m              \u001b[0m\n",
      "\u001b[2;36m                   \u001b[0m\u001b[2;36m \u001b[0m\u001b[34mINFO    \u001b[0m After                           :    \u001b]8;id=520956;file:///disks/local/c.4t_4/oscar/zhtw-dataset-cleaning/.venv/lib/python3.10/site-packages/text_dedup/minhash.py\u001b\\\u001b[2mminhash.py\u001b[0m\u001b]8;;\u001b\\\u001b[2m:\u001b[0m\u001b]8;id=580718;file:///disks/local/c.4t_4/oscar/zhtw-dataset-cleaning/.venv/lib/python3.10/site-packages/text_dedup/minhash.py#309\u001b\\\u001b[2m309\u001b[0m\u001b]8;;\u001b\\\n",
      "\u001b[2;36m                    \u001b[0m         \u001b[1;36m962431\u001b[0m                               \u001b[2m              \u001b[0m\n"
     ]
    }
   ],
   "source": [
    "!python -m text_dedup.minhash \\\n",
    "    --path benchang1110/pretrainedtw \\\n",
    "    --split train \\\n",
    "    --output pretrainedtw_dedup \\\n",
    "    --column article"
   ]
  },
  {
   "cell_type": "code",
   "execution_count": 12,
   "metadata": {},
   "outputs": [
    {
     "name": "stdout",
     "output_type": "stream",
     "text": [
      "Downloading readme: 100%|██████████████████████| 481/481 [00:00<00:00, 2.84MB/s]\n",
      "Downloading data: 100%|██████████████████████| 105M/105M [00:05<00:00, 17.9MB/s]\n",
      "Generating train split: 100%|███| 26056/26056 [00:01<00:00, 20803.77 examples/s]\n",
      "Map (num_proc=40): 100%|████████| 26056/26056 [00:00<00:00, 87662.68 examples/s]\n",
      "Filter (num_proc=40): 100%|█████| 26056/26056 [00:00<00:00, 57586.34 examples/s]\n",
      "Fingerprinting... (num_proc=40): 100%|█| 26056/26056 [00:03<00:00, 7756.51 examp\n",
      "Iterating MinHashes...: 100%|█████████████████████| 3/3 [00:01<00:00,  1.76it/s]\n",
      "\u001b[2;36m[05/06/24 20:24:07]\u001b[0m\u001b[2;36m \u001b[0m\u001b[34mINFO    \u001b[0m Number of clusters: \u001b[1;36m25\u001b[0m               \u001b]8;id=900058;file:///disks/local/c.4t_4/oscar/zhtw-dataset-cleaning/.venv/lib/python3.10/site-packages/text_dedup/minhash.py\u001b\\\u001b[2mminhash.py\u001b[0m\u001b]8;;\u001b\\\u001b[2m:\u001b[0m\u001b]8;id=762352;file:///disks/local/c.4t_4/oscar/zhtw-dataset-cleaning/.venv/lib/python3.10/site-packages/text_dedup/minhash.py#265\u001b\\\u001b[2m265\u001b[0m\u001b]8;;\u001b\\\n",
      "Clustering...: 100%|████████████████████████████| 25/25 [00:00<00:00, 97.15it/s]\n",
      "\u001b[2;36m                   \u001b[0m\u001b[2;36m \u001b[0m\u001b[34mINFO    \u001b[0m Number of edges: \u001b[1;36m7175\u001b[0m                \u001b]8;id=371378;file:///disks/local/c.4t_4/oscar/zhtw-dataset-cleaning/.venv/lib/python3.10/site-packages/text_dedup/minhash.py\u001b\\\u001b[2mminhash.py\u001b[0m\u001b]8;;\u001b\\\u001b[2m:\u001b[0m\u001b]8;id=365587;file:///disks/local/c.4t_4/oscar/zhtw-dataset-cleaning/.venv/lib/python3.10/site-packages/text_dedup/minhash.py#275\u001b\\\u001b[2m275\u001b[0m\u001b]8;;\u001b\\\n",
      "Finding clusters... (num_proc=40): 100%|█| 26056/26056 [00:00<00:00, 51519.22 ex\n",
      "Filtering clusters... (num_proc=40): 100%|█| 26056/26056 [00:00<00:00, 88694.93 \n",
      "Saving the dataset (1/1 shards): 100%|█| 22464/22464 [00:00<00:00, 70967.81 exam\n",
      "\u001b[2;36m[05/06/24 20:24:10]\u001b[0m\u001b[2;36m \u001b[0m\u001b[34mINFO    \u001b[0m Loading                         :       \u001b]8;id=871297;file:///disks/local/c.4t_4/oscar/zhtw-dataset-cleaning/.venv/lib/python3.10/site-packages/text_dedup/utils/timer.py\u001b\\\u001b[2mtimer.py\u001b[0m\u001b]8;;\u001b\\\u001b[2m:\u001b[0m\u001b]8;id=347114;file:///disks/local/c.4t_4/oscar/zhtw-dataset-cleaning/.venv/lib/python3.10/site-packages/text_dedup/utils/timer.py#65\u001b\\\u001b[2m65\u001b[0m\u001b]8;;\u001b\\\n",
      "\u001b[2;36m                    \u001b[0m         \u001b[1;36m14.\u001b[0m01s                                  \u001b[2m           \u001b[0m\n",
      "\u001b[2;36m                   \u001b[0m\u001b[2;36m \u001b[0m\u001b[34mINFO    \u001b[0m MinHashing                      : \u001b[1;36m3.\u001b[0m70s \u001b]8;id=119608;file:///disks/local/c.4t_4/oscar/zhtw-dataset-cleaning/.venv/lib/python3.10/site-packages/text_dedup/utils/timer.py\u001b\\\u001b[2mtimer.py\u001b[0m\u001b]8;;\u001b\\\u001b[2m:\u001b[0m\u001b]8;id=369984;file:///disks/local/c.4t_4/oscar/zhtw-dataset-cleaning/.venv/lib/python3.10/site-packages/text_dedup/utils/timer.py#65\u001b\\\u001b[2m65\u001b[0m\u001b]8;;\u001b\\\n",
      "\u001b[2;36m                   \u001b[0m\u001b[2;36m \u001b[0m\u001b[34mINFO    \u001b[0m Clustering                      : \u001b[1;36m1.\u001b[0m98s \u001b]8;id=927436;file:///disks/local/c.4t_4/oscar/zhtw-dataset-cleaning/.venv/lib/python3.10/site-packages/text_dedup/utils/timer.py\u001b\\\u001b[2mtimer.py\u001b[0m\u001b]8;;\u001b\\\u001b[2m:\u001b[0m\u001b]8;id=488326;file:///disks/local/c.4t_4/oscar/zhtw-dataset-cleaning/.venv/lib/python3.10/site-packages/text_dedup/utils/timer.py#65\u001b\\\u001b[2m65\u001b[0m\u001b]8;;\u001b\\\n",
      "\u001b[2;36m                   \u001b[0m\u001b[2;36m \u001b[0m\u001b[34mINFO    \u001b[0m Filtering                       : \u001b[1;36m1.\u001b[0m83s \u001b]8;id=559211;file:///disks/local/c.4t_4/oscar/zhtw-dataset-cleaning/.venv/lib/python3.10/site-packages/text_dedup/utils/timer.py\u001b\\\u001b[2mtimer.py\u001b[0m\u001b]8;;\u001b\\\u001b[2m:\u001b[0m\u001b]8;id=466658;file:///disks/local/c.4t_4/oscar/zhtw-dataset-cleaning/.venv/lib/python3.10/site-packages/text_dedup/utils/timer.py#65\u001b\\\u001b[2m65\u001b[0m\u001b]8;;\u001b\\\n",
      "\u001b[2;36m                   \u001b[0m\u001b[2;36m \u001b[0m\u001b[34mINFO    \u001b[0m Saving                          : \u001b[1;36m0.\u001b[0m34s \u001b]8;id=497385;file:///disks/local/c.4t_4/oscar/zhtw-dataset-cleaning/.venv/lib/python3.10/site-packages/text_dedup/utils/timer.py\u001b\\\u001b[2mtimer.py\u001b[0m\u001b]8;;\u001b\\\u001b[2m:\u001b[0m\u001b]8;id=194149;file:///disks/local/c.4t_4/oscar/zhtw-dataset-cleaning/.venv/lib/python3.10/site-packages/text_dedup/utils/timer.py#65\u001b\\\u001b[2m65\u001b[0m\u001b]8;;\u001b\\\n",
      "\u001b[2;36m                   \u001b[0m\u001b[2;36m \u001b[0m\u001b[34mINFO    \u001b[0m Cleaning                        : \u001b[1;36m0.\u001b[0m04s \u001b]8;id=510622;file:///disks/local/c.4t_4/oscar/zhtw-dataset-cleaning/.venv/lib/python3.10/site-packages/text_dedup/utils/timer.py\u001b\\\u001b[2mtimer.py\u001b[0m\u001b]8;;\u001b\\\u001b[2m:\u001b[0m\u001b]8;id=948312;file:///disks/local/c.4t_4/oscar/zhtw-dataset-cleaning/.venv/lib/python3.10/site-packages/text_dedup/utils/timer.py#65\u001b\\\u001b[2m65\u001b[0m\u001b]8;;\u001b\\\n",
      "\u001b[2;36m                   \u001b[0m\u001b[2;36m \u001b[0m\u001b[34mINFO    \u001b[0m Total                           :       \u001b]8;id=572892;file:///disks/local/c.4t_4/oscar/zhtw-dataset-cleaning/.venv/lib/python3.10/site-packages/text_dedup/utils/timer.py\u001b\\\u001b[2mtimer.py\u001b[0m\u001b]8;;\u001b\\\u001b[2m:\u001b[0m\u001b]8;id=266402;file:///disks/local/c.4t_4/oscar/zhtw-dataset-cleaning/.venv/lib/python3.10/site-packages/text_dedup/utils/timer.py#65\u001b\\\u001b[2m65\u001b[0m\u001b]8;;\u001b\\\n",
      "\u001b[2;36m                    \u001b[0m         \u001b[1;36m21.\u001b[0m89s                                  \u001b[2m           \u001b[0m\n",
      "\u001b[2;36m                   \u001b[0m\u001b[2;36m \u001b[0m\u001b[34mINFO    \u001b[0m Before                          :    \u001b]8;id=911150;file:///disks/local/c.4t_4/oscar/zhtw-dataset-cleaning/.venv/lib/python3.10/site-packages/text_dedup/minhash.py\u001b\\\u001b[2mminhash.py\u001b[0m\u001b]8;;\u001b\\\u001b[2m:\u001b[0m\u001b]8;id=420492;file:///disks/local/c.4t_4/oscar/zhtw-dataset-cleaning/.venv/lib/python3.10/site-packages/text_dedup/minhash.py#308\u001b\\\u001b[2m308\u001b[0m\u001b]8;;\u001b\\\n",
      "\u001b[2;36m                    \u001b[0m         \u001b[1;36m26056\u001b[0m                                \u001b[2m              \u001b[0m\n",
      "\u001b[2;36m                   \u001b[0m\u001b[2;36m \u001b[0m\u001b[34mINFO    \u001b[0m After                           :    \u001b]8;id=649266;file:///disks/local/c.4t_4/oscar/zhtw-dataset-cleaning/.venv/lib/python3.10/site-packages/text_dedup/minhash.py\u001b\\\u001b[2mminhash.py\u001b[0m\u001b]8;;\u001b\\\u001b[2m:\u001b[0m\u001b]8;id=359559;file:///disks/local/c.4t_4/oscar/zhtw-dataset-cleaning/.venv/lib/python3.10/site-packages/text_dedup/minhash.py#309\u001b\\\u001b[2m309\u001b[0m\u001b]8;;\u001b\\\n",
      "\u001b[2;36m                    \u001b[0m         \u001b[1;36m22464\u001b[0m                                \u001b[2m              \u001b[0m\n"
     ]
    }
   ],
   "source": [
    "!python -m text_dedup.minhash \\\n",
    "    --path benchang1110/sciencetw \\\n",
    "    --split train \\\n",
    "    --output sciencetw_dedup \\\n",
    "    --column article"
   ]
  },
  {
   "cell_type": "code",
   "execution_count": 13,
   "metadata": {},
   "outputs": [
    {
     "name": "stdout",
     "output_type": "stream",
     "text": [
      "Downloading readme: 100%|██████████████████████| 483/483 [00:00<00:00, 3.24MB/s]\n",
      "Downloading data: 100%|██████████████████████| 216M/216M [00:10<00:00, 21.4MB/s]\n",
      "Generating train split: 100%|█| 113604/113604 [00:02<00:00, 39240.75 examples/s]\n",
      "Map (num_proc=40): 100%|█████| 113604/113604 [00:00<00:00, 250350.95 examples/s]\n",
      "Filter (num_proc=40): 100%|██| 113604/113604 [00:00<00:00, 156923.34 examples/s]\n",
      "Fingerprinting... (num_proc=40): 100%|█| 113604/113604 [00:10<00:00, 11004.91 ex\n",
      "Iterating MinHashes...: 100%|███████████████████| 12/12 [00:07<00:00,  1.52it/s]\n",
      "\u001b[2;36m[05/06/24 20:24:53]\u001b[0m\u001b[2;36m \u001b[0m\u001b[34mINFO    \u001b[0m Number of clusters: \u001b[1;36m25\u001b[0m               \u001b]8;id=501341;file:///disks/local/c.4t_4/oscar/zhtw-dataset-cleaning/.venv/lib/python3.10/site-packages/text_dedup/minhash.py\u001b\\\u001b[2mminhash.py\u001b[0m\u001b]8;;\u001b\\\u001b[2m:\u001b[0m\u001b]8;id=388320;file:///disks/local/c.4t_4/oscar/zhtw-dataset-cleaning/.venv/lib/python3.10/site-packages/text_dedup/minhash.py#265\u001b\\\u001b[2m265\u001b[0m\u001b]8;;\u001b\\\n",
      "Clustering...: 100%|████████████████████████████| 25/25 [00:01<00:00, 16.14it/s]\n",
      "\u001b[2;36m[05/06/24 20:24:54]\u001b[0m\u001b[2;36m \u001b[0m\u001b[34mINFO    \u001b[0m Number of edges: \u001b[1;36m10320\u001b[0m               \u001b]8;id=351745;file:///disks/local/c.4t_4/oscar/zhtw-dataset-cleaning/.venv/lib/python3.10/site-packages/text_dedup/minhash.py\u001b\\\u001b[2mminhash.py\u001b[0m\u001b]8;;\u001b\\\u001b[2m:\u001b[0m\u001b]8;id=23910;file:///disks/local/c.4t_4/oscar/zhtw-dataset-cleaning/.venv/lib/python3.10/site-packages/text_dedup/minhash.py#275\u001b\\\u001b[2m275\u001b[0m\u001b]8;;\u001b\\\n",
      "Finding clusters... (num_proc=40): 100%|█| 113604/113604 [00:00<00:00, 127118.50\n",
      "Filtering clusters... (num_proc=40): 100%|█| 113604/113604 [00:00<00:00, 286109.\n",
      "Saving the dataset (1/1 shards): 100%|█| 107277/107277 [00:00<00:00, 143789.66 e\n",
      "\u001b[2;36m[05/06/24 20:24:58]\u001b[0m\u001b[2;36m \u001b[0m\u001b[34mINFO    \u001b[0m Loading                         :       \u001b]8;id=905794;file:///disks/local/c.4t_4/oscar/zhtw-dataset-cleaning/.venv/lib/python3.10/site-packages/text_dedup/utils/timer.py\u001b\\\u001b[2mtimer.py\u001b[0m\u001b]8;;\u001b\\\u001b[2m:\u001b[0m\u001b]8;id=483314;file:///disks/local/c.4t_4/oscar/zhtw-dataset-cleaning/.venv/lib/python3.10/site-packages/text_dedup/utils/timer.py#65\u001b\\\u001b[2m65\u001b[0m\u001b]8;;\u001b\\\n",
      "\u001b[2;36m                    \u001b[0m         \u001b[1;36m20.\u001b[0m53s                                  \u001b[2m           \u001b[0m\n",
      "\u001b[2;36m                   \u001b[0m\u001b[2;36m \u001b[0m\u001b[34mINFO    \u001b[0m MinHashing                      :       \u001b]8;id=379470;file:///disks/local/c.4t_4/oscar/zhtw-dataset-cleaning/.venv/lib/python3.10/site-packages/text_dedup/utils/timer.py\u001b\\\u001b[2mtimer.py\u001b[0m\u001b]8;;\u001b\\\u001b[2m:\u001b[0m\u001b]8;id=120655;file:///disks/local/c.4t_4/oscar/zhtw-dataset-cleaning/.venv/lib/python3.10/site-packages/text_dedup/utils/timer.py#65\u001b\\\u001b[2m65\u001b[0m\u001b]8;;\u001b\\\n",
      "\u001b[2;36m                    \u001b[0m         \u001b[1;36m10.\u001b[0m69s                                  \u001b[2m           \u001b[0m\n",
      "\u001b[2;36m                   \u001b[0m\u001b[2;36m \u001b[0m\u001b[34mINFO    \u001b[0m Clustering                      : \u001b[1;36m9.\u001b[0m46s \u001b]8;id=214589;file:///disks/local/c.4t_4/oscar/zhtw-dataset-cleaning/.venv/lib/python3.10/site-packages/text_dedup/utils/timer.py\u001b\\\u001b[2mtimer.py\u001b[0m\u001b]8;;\u001b\\\u001b[2m:\u001b[0m\u001b]8;id=373770;file:///disks/local/c.4t_4/oscar/zhtw-dataset-cleaning/.venv/lib/python3.10/site-packages/text_dedup/utils/timer.py#65\u001b\\\u001b[2m65\u001b[0m\u001b]8;;\u001b\\\n",
      "\u001b[2;36m                   \u001b[0m\u001b[2;36m \u001b[0m\u001b[34mINFO    \u001b[0m Filtering                       : \u001b[1;36m3.\u001b[0m14s \u001b]8;id=165011;file:///disks/local/c.4t_4/oscar/zhtw-dataset-cleaning/.venv/lib/python3.10/site-packages/text_dedup/utils/timer.py\u001b\\\u001b[2mtimer.py\u001b[0m\u001b]8;;\u001b\\\u001b[2m:\u001b[0m\u001b]8;id=940333;file:///disks/local/c.4t_4/oscar/zhtw-dataset-cleaning/.venv/lib/python3.10/site-packages/text_dedup/utils/timer.py#65\u001b\\\u001b[2m65\u001b[0m\u001b]8;;\u001b\\\n",
      "\u001b[2;36m                   \u001b[0m\u001b[2;36m \u001b[0m\u001b[34mINFO    \u001b[0m Saving                          : \u001b[1;36m0.\u001b[0m78s \u001b]8;id=734918;file:///disks/local/c.4t_4/oscar/zhtw-dataset-cleaning/.venv/lib/python3.10/site-packages/text_dedup/utils/timer.py\u001b\\\u001b[2mtimer.py\u001b[0m\u001b]8;;\u001b\\\u001b[2m:\u001b[0m\u001b]8;id=686800;file:///disks/local/c.4t_4/oscar/zhtw-dataset-cleaning/.venv/lib/python3.10/site-packages/text_dedup/utils/timer.py#65\u001b\\\u001b[2m65\u001b[0m\u001b]8;;\u001b\\\n",
      "\u001b[2;36m                   \u001b[0m\u001b[2;36m \u001b[0m\u001b[34mINFO    \u001b[0m Cleaning                        : \u001b[1;36m0.\u001b[0m05s \u001b]8;id=741297;file:///disks/local/c.4t_4/oscar/zhtw-dataset-cleaning/.venv/lib/python3.10/site-packages/text_dedup/utils/timer.py\u001b\\\u001b[2mtimer.py\u001b[0m\u001b]8;;\u001b\\\u001b[2m:\u001b[0m\u001b]8;id=817511;file:///disks/local/c.4t_4/oscar/zhtw-dataset-cleaning/.venv/lib/python3.10/site-packages/text_dedup/utils/timer.py#65\u001b\\\u001b[2m65\u001b[0m\u001b]8;;\u001b\\\n",
      "\u001b[2;36m                   \u001b[0m\u001b[2;36m \u001b[0m\u001b[34mINFO    \u001b[0m Total                           :       \u001b]8;id=88515;file:///disks/local/c.4t_4/oscar/zhtw-dataset-cleaning/.venv/lib/python3.10/site-packages/text_dedup/utils/timer.py\u001b\\\u001b[2mtimer.py\u001b[0m\u001b]8;;\u001b\\\u001b[2m:\u001b[0m\u001b]8;id=974774;file:///disks/local/c.4t_4/oscar/zhtw-dataset-cleaning/.venv/lib/python3.10/site-packages/text_dedup/utils/timer.py#65\u001b\\\u001b[2m65\u001b[0m\u001b]8;;\u001b\\\n",
      "\u001b[2;36m                    \u001b[0m         \u001b[1;36m44.\u001b[0m64s                                  \u001b[2m           \u001b[0m\n",
      "\u001b[2;36m                   \u001b[0m\u001b[2;36m \u001b[0m\u001b[34mINFO    \u001b[0m Before                          :    \u001b]8;id=560654;file:///disks/local/c.4t_4/oscar/zhtw-dataset-cleaning/.venv/lib/python3.10/site-packages/text_dedup/minhash.py\u001b\\\u001b[2mminhash.py\u001b[0m\u001b]8;;\u001b\\\u001b[2m:\u001b[0m\u001b]8;id=10481;file:///disks/local/c.4t_4/oscar/zhtw-dataset-cleaning/.venv/lib/python3.10/site-packages/text_dedup/minhash.py#308\u001b\\\u001b[2m308\u001b[0m\u001b]8;;\u001b\\\n",
      "\u001b[2;36m                    \u001b[0m         \u001b[1;36m113604\u001b[0m                               \u001b[2m              \u001b[0m\n",
      "\u001b[2;36m                   \u001b[0m\u001b[2;36m \u001b[0m\u001b[34mINFO    \u001b[0m After                           :    \u001b]8;id=661532;file:///disks/local/c.4t_4/oscar/zhtw-dataset-cleaning/.venv/lib/python3.10/site-packages/text_dedup/minhash.py\u001b\\\u001b[2mminhash.py\u001b[0m\u001b]8;;\u001b\\\u001b[2m:\u001b[0m\u001b]8;id=605290;file:///disks/local/c.4t_4/oscar/zhtw-dataset-cleaning/.venv/lib/python3.10/site-packages/text_dedup/minhash.py#309\u001b\\\u001b[2m309\u001b[0m\u001b]8;;\u001b\\\n",
      "\u001b[2;36m                    \u001b[0m         \u001b[1;36m107277\u001b[0m                               \u001b[2m              \u001b[0m\n"
     ]
    }
   ],
   "source": [
    "!python -m text_dedup.minhash \\\n",
    "    --path benchang1110/technewstw \\\n",
    "    --split train \\\n",
    "    --output technewstw_dedup \\\n",
    "    --column article"
   ]
  },
  {
   "cell_type": "code",
   "execution_count": 16,
   "metadata": {},
   "outputs": [
    {
     "name": "stdout",
     "output_type": "stream",
     "text": [
      "Iterating MinHashes...: 100%|███████████████████| 43/43 [00:27<00:00,  1.56it/s]\n",
      "\u001b[2;36m[05/06/24 20:28:58]\u001b[0m\u001b[2;36m \u001b[0m\u001b[34mINFO    \u001b[0m Number of clusters: \u001b[1;36m25\u001b[0m               \u001b]8;id=579649;file:///disks/local/c.4t_4/oscar/zhtw-dataset-cleaning/.venv/lib/python3.10/site-packages/text_dedup/minhash.py\u001b\\\u001b[2mminhash.py\u001b[0m\u001b]8;;\u001b\\\u001b[2m:\u001b[0m\u001b]8;id=695956;file:///disks/local/c.4t_4/oscar/zhtw-dataset-cleaning/.venv/lib/python3.10/site-packages/text_dedup/minhash.py#265\u001b\\\u001b[2m265\u001b[0m\u001b]8;;\u001b\\\n",
      "Clustering...: 100%|████████████████████████████| 25/25 [00:05<00:00,  4.86it/s]\n",
      "\u001b[2;36m[05/06/24 20:29:03]\u001b[0m\u001b[2;36m \u001b[0m\u001b[34mINFO    \u001b[0m Number of edges: \u001b[1;36m185598\u001b[0m              \u001b]8;id=327248;file:///disks/local/c.4t_4/oscar/zhtw-dataset-cleaning/.venv/lib/python3.10/site-packages/text_dedup/minhash.py\u001b\\\u001b[2mminhash.py\u001b[0m\u001b]8;;\u001b\\\u001b[2m:\u001b[0m\u001b]8;id=768885;file:///disks/local/c.4t_4/oscar/zhtw-dataset-cleaning/.venv/lib/python3.10/site-packages/text_dedup/minhash.py#275\u001b\\\u001b[2m275\u001b[0m\u001b]8;;\u001b\\\n",
      "Finding clusters... (num_proc=40): 100%|█| 424575/424575 [00:02<00:00, 147271.63\n",
      "Filtering clusters... (num_proc=40): 100%|█| 424575/424575 [00:00<00:00, 558104.\n",
      "Saving the dataset (4/4 shards): 100%|█| 346125/346125 [00:02<00:00, 121734.26 e\n",
      "\u001b[2;36m[05/06/24 20:29:14]\u001b[0m\u001b[2;36m \u001b[0m\u001b[34mINFO    \u001b[0m Loading                         : \u001b[1;36m4.\u001b[0m98s \u001b]8;id=585349;file:///disks/local/c.4t_4/oscar/zhtw-dataset-cleaning/.venv/lib/python3.10/site-packages/text_dedup/utils/timer.py\u001b\\\u001b[2mtimer.py\u001b[0m\u001b]8;;\u001b\\\u001b[2m:\u001b[0m\u001b]8;id=318519;file:///disks/local/c.4t_4/oscar/zhtw-dataset-cleaning/.venv/lib/python3.10/site-packages/text_dedup/utils/timer.py#65\u001b\\\u001b[2m65\u001b[0m\u001b]8;;\u001b\\\n",
      "\u001b[2;36m                   \u001b[0m\u001b[2;36m \u001b[0m\u001b[34mINFO    \u001b[0m MinHashing                      : \u001b[1;36m0.\u001b[0m34s \u001b]8;id=972437;file:///disks/local/c.4t_4/oscar/zhtw-dataset-cleaning/.venv/lib/python3.10/site-packages/text_dedup/utils/timer.py\u001b\\\u001b[2mtimer.py\u001b[0m\u001b]8;;\u001b\\\u001b[2m:\u001b[0m\u001b]8;id=390053;file:///disks/local/c.4t_4/oscar/zhtw-dataset-cleaning/.venv/lib/python3.10/site-packages/text_dedup/utils/timer.py#65\u001b\\\u001b[2m65\u001b[0m\u001b]8;;\u001b\\\n",
      "\u001b[2;36m                   \u001b[0m\u001b[2;36m \u001b[0m\u001b[34mINFO    \u001b[0m Clustering                      :       \u001b]8;id=804589;file:///disks/local/c.4t_4/oscar/zhtw-dataset-cleaning/.venv/lib/python3.10/site-packages/text_dedup/utils/timer.py\u001b\\\u001b[2mtimer.py\u001b[0m\u001b]8;;\u001b\\\u001b[2m:\u001b[0m\u001b]8;id=599772;file:///disks/local/c.4t_4/oscar/zhtw-dataset-cleaning/.venv/lib/python3.10/site-packages/text_dedup/utils/timer.py#65\u001b\\\u001b[2m65\u001b[0m\u001b]8;;\u001b\\\n",
      "\u001b[2;36m                    \u001b[0m         \u001b[1;36m32.\u001b[0m93s                                  \u001b[2m           \u001b[0m\n",
      "\u001b[2;36m                   \u001b[0m\u001b[2;36m \u001b[0m\u001b[34mINFO    \u001b[0m Filtering                       : \u001b[1;36m6.\u001b[0m98s \u001b]8;id=948055;file:///disks/local/c.4t_4/oscar/zhtw-dataset-cleaning/.venv/lib/python3.10/site-packages/text_dedup/utils/timer.py\u001b\\\u001b[2mtimer.py\u001b[0m\u001b]8;;\u001b\\\u001b[2m:\u001b[0m\u001b]8;id=383133;file:///disks/local/c.4t_4/oscar/zhtw-dataset-cleaning/.venv/lib/python3.10/site-packages/text_dedup/utils/timer.py#65\u001b\\\u001b[2m65\u001b[0m\u001b]8;;\u001b\\\n",
      "\u001b[2;36m                   \u001b[0m\u001b[2;36m \u001b[0m\u001b[34mINFO    \u001b[0m Saving                          : \u001b[1;36m2.\u001b[0m87s \u001b]8;id=593988;file:///disks/local/c.4t_4/oscar/zhtw-dataset-cleaning/.venv/lib/python3.10/site-packages/text_dedup/utils/timer.py\u001b\\\u001b[2mtimer.py\u001b[0m\u001b]8;;\u001b\\\u001b[2m:\u001b[0m\u001b]8;id=574469;file:///disks/local/c.4t_4/oscar/zhtw-dataset-cleaning/.venv/lib/python3.10/site-packages/text_dedup/utils/timer.py#65\u001b\\\u001b[2m65\u001b[0m\u001b]8;;\u001b\\\n",
      "\u001b[2;36m                   \u001b[0m\u001b[2;36m \u001b[0m\u001b[34mINFO    \u001b[0m Cleaning                        : \u001b[1;36m0.\u001b[0m51s \u001b]8;id=125649;file:///disks/local/c.4t_4/oscar/zhtw-dataset-cleaning/.venv/lib/python3.10/site-packages/text_dedup/utils/timer.py\u001b\\\u001b[2mtimer.py\u001b[0m\u001b]8;;\u001b\\\u001b[2m:\u001b[0m\u001b]8;id=956221;file:///disks/local/c.4t_4/oscar/zhtw-dataset-cleaning/.venv/lib/python3.10/site-packages/text_dedup/utils/timer.py#65\u001b\\\u001b[2m65\u001b[0m\u001b]8;;\u001b\\\n",
      "\u001b[2;36m                   \u001b[0m\u001b[2;36m \u001b[0m\u001b[34mINFO    \u001b[0m Total                           :       \u001b]8;id=451861;file:///disks/local/c.4t_4/oscar/zhtw-dataset-cleaning/.venv/lib/python3.10/site-packages/text_dedup/utils/timer.py\u001b\\\u001b[2mtimer.py\u001b[0m\u001b]8;;\u001b\\\u001b[2m:\u001b[0m\u001b]8;id=462471;file:///disks/local/c.4t_4/oscar/zhtw-dataset-cleaning/.venv/lib/python3.10/site-packages/text_dedup/utils/timer.py#65\u001b\\\u001b[2m65\u001b[0m\u001b]8;;\u001b\\\n",
      "\u001b[2;36m                    \u001b[0m         \u001b[1;36m48.\u001b[0m61s                                  \u001b[2m           \u001b[0m\n",
      "\u001b[2;36m                   \u001b[0m\u001b[2;36m \u001b[0m\u001b[34mINFO    \u001b[0m Before                          :    \u001b]8;id=498674;file:///disks/local/c.4t_4/oscar/zhtw-dataset-cleaning/.venv/lib/python3.10/site-packages/text_dedup/minhash.py\u001b\\\u001b[2mminhash.py\u001b[0m\u001b]8;;\u001b\\\u001b[2m:\u001b[0m\u001b]8;id=622937;file:///disks/local/c.4t_4/oscar/zhtw-dataset-cleaning/.venv/lib/python3.10/site-packages/text_dedup/minhash.py#308\u001b\\\u001b[2m308\u001b[0m\u001b]8;;\u001b\\\n",
      "\u001b[2;36m                    \u001b[0m         \u001b[1;36m424575\u001b[0m                               \u001b[2m              \u001b[0m\n",
      "\u001b[2;36m                   \u001b[0m\u001b[2;36m \u001b[0m\u001b[34mINFO    \u001b[0m After                           :    \u001b]8;id=866455;file:///disks/local/c.4t_4/oscar/zhtw-dataset-cleaning/.venv/lib/python3.10/site-packages/text_dedup/minhash.py\u001b\\\u001b[2mminhash.py\u001b[0m\u001b]8;;\u001b\\\u001b[2m:\u001b[0m\u001b]8;id=384218;file:///disks/local/c.4t_4/oscar/zhtw-dataset-cleaning/.venv/lib/python3.10/site-packages/text_dedup/minhash.py#309\u001b\\\u001b[2m309\u001b[0m\u001b]8;;\u001b\\\n",
      "\u001b[2;36m                    \u001b[0m         \u001b[1;36m346125\u001b[0m                               \u001b[2m              \u001b[0m\n"
     ]
    }
   ],
   "source": [
    "!python -m text_dedup.minhash \\\n",
    "    --path benchang1110/newstw \\\n",
    "    --split train \\\n",
    "    --output newstw_dedup \\\n",
    "    --column article"
   ]
  },
  {
   "cell_type": "code",
   "execution_count": 15,
   "metadata": {},
   "outputs": [
    {
     "name": "stdout",
     "output_type": "stream",
     "text": [
      "Downloading readme: 100%|██████████████████████| 479/479 [00:00<00:00, 3.34MB/s]\n",
      "Downloading data: 100%|██████████████████████| 299M/299M [00:12<00:00, 24.4MB/s]\n",
      "Generating train split: 100%|███| 86860/86860 [00:04<00:00, 21685.69 examples/s]\n",
      "Map (num_proc=40): 100%|███████| 86860/86860 [00:00<00:00, 189703.81 examples/s]\n",
      "Filter (num_proc=40): 100%|████| 86860/86860 [00:00<00:00, 107547.02 examples/s]\n",
      "Fingerprinting... (num_proc=40): 100%|█| 86859/86859 [00:10<00:00, 8262.53 examp\n",
      "Iterating MinHashes...: 100%|█████████████████████| 9/9 [00:05<00:00,  1.58it/s]\n",
      "\u001b[2;36m[05/06/24 20:28:19]\u001b[0m\u001b[2;36m \u001b[0m\u001b[34mINFO    \u001b[0m Number of clusters: \u001b[1;36m25\u001b[0m               \u001b]8;id=903741;file:///disks/local/c.4t_4/oscar/zhtw-dataset-cleaning/.venv/lib/python3.10/site-packages/text_dedup/minhash.py\u001b\\\u001b[2mminhash.py\u001b[0m\u001b]8;;\u001b\\\u001b[2m:\u001b[0m\u001b]8;id=249466;file:///disks/local/c.4t_4/oscar/zhtw-dataset-cleaning/.venv/lib/python3.10/site-packages/text_dedup/minhash.py#265\u001b\\\u001b[2m265\u001b[0m\u001b]8;;\u001b\\\n",
      "Clustering...: 100%|████████████████████████████| 25/25 [00:00<00:00, 45.27it/s]\n",
      "\u001b[2;36m[05/06/24 20:28:20]\u001b[0m\u001b[2;36m \u001b[0m\u001b[34mINFO    \u001b[0m Number of edges: \u001b[1;36m6317\u001b[0m                \u001b]8;id=499868;file:///disks/local/c.4t_4/oscar/zhtw-dataset-cleaning/.venv/lib/python3.10/site-packages/text_dedup/minhash.py\u001b\\\u001b[2mminhash.py\u001b[0m\u001b]8;;\u001b\\\u001b[2m:\u001b[0m\u001b]8;id=343370;file:///disks/local/c.4t_4/oscar/zhtw-dataset-cleaning/.venv/lib/python3.10/site-packages/text_dedup/minhash.py#275\u001b\\\u001b[2m275\u001b[0m\u001b]8;;\u001b\\\n",
      "Finding clusters... (num_proc=40): 100%|█| 86859/86859 [00:00<00:00, 100839.89 e\n",
      "Filtering clusters... (num_proc=40): 100%|█| 86859/86859 [00:00<00:00, 269363.30\n",
      "Saving the dataset (1/1 shards): 100%|█| 83668/83668 [00:00<00:00, 120276.16 exa\n",
      "\u001b[2;36m[05/06/24 20:28:23]\u001b[0m\u001b[2;36m \u001b[0m\u001b[34mINFO    \u001b[0m Loading                         :       \u001b]8;id=629954;file:///disks/local/c.4t_4/oscar/zhtw-dataset-cleaning/.venv/lib/python3.10/site-packages/text_dedup/utils/timer.py\u001b\\\u001b[2mtimer.py\u001b[0m\u001b]8;;\u001b\\\u001b[2m:\u001b[0m\u001b]8;id=839410;file:///disks/local/c.4t_4/oscar/zhtw-dataset-cleaning/.venv/lib/python3.10/site-packages/text_dedup/utils/timer.py#65\u001b\\\u001b[2m65\u001b[0m\u001b]8;;\u001b\\\n",
      "\u001b[2;36m                    \u001b[0m         \u001b[1;36m24.\u001b[0m06s                                  \u001b[2m           \u001b[0m\n",
      "\u001b[2;36m                   \u001b[0m\u001b[2;36m \u001b[0m\u001b[34mINFO    \u001b[0m MinHashing                      :       \u001b]8;id=665111;file:///disks/local/c.4t_4/oscar/zhtw-dataset-cleaning/.venv/lib/python3.10/site-packages/text_dedup/utils/timer.py\u001b\\\u001b[2mtimer.py\u001b[0m\u001b]8;;\u001b\\\u001b[2m:\u001b[0m\u001b]8;id=834589;file:///disks/local/c.4t_4/oscar/zhtw-dataset-cleaning/.venv/lib/python3.10/site-packages/text_dedup/utils/timer.py#65\u001b\\\u001b[2m65\u001b[0m\u001b]8;;\u001b\\\n",
      "\u001b[2;36m                    \u001b[0m         \u001b[1;36m10.\u001b[0m89s                                  \u001b[2m           \u001b[0m\n",
      "\u001b[2;36m                   \u001b[0m\u001b[2;36m \u001b[0m\u001b[34mINFO    \u001b[0m Clustering                      : \u001b[1;36m6.\u001b[0m27s \u001b]8;id=879222;file:///disks/local/c.4t_4/oscar/zhtw-dataset-cleaning/.venv/lib/python3.10/site-packages/text_dedup/utils/timer.py\u001b\\\u001b[2mtimer.py\u001b[0m\u001b]8;;\u001b\\\u001b[2m:\u001b[0m\u001b]8;id=513735;file:///disks/local/c.4t_4/oscar/zhtw-dataset-cleaning/.venv/lib/python3.10/site-packages/text_dedup/utils/timer.py#65\u001b\\\u001b[2m65\u001b[0m\u001b]8;;\u001b\\\n",
      "\u001b[2;36m                   \u001b[0m\u001b[2;36m \u001b[0m\u001b[34mINFO    \u001b[0m Filtering                       : \u001b[1;36m2.\u001b[0m62s \u001b]8;id=769070;file:///disks/local/c.4t_4/oscar/zhtw-dataset-cleaning/.venv/lib/python3.10/site-packages/text_dedup/utils/timer.py\u001b\\\u001b[2mtimer.py\u001b[0m\u001b]8;;\u001b\\\u001b[2m:\u001b[0m\u001b]8;id=261967;file:///disks/local/c.4t_4/oscar/zhtw-dataset-cleaning/.venv/lib/python3.10/site-packages/text_dedup/utils/timer.py#65\u001b\\\u001b[2m65\u001b[0m\u001b]8;;\u001b\\\n",
      "\u001b[2;36m                   \u001b[0m\u001b[2;36m \u001b[0m\u001b[34mINFO    \u001b[0m Saving                          : \u001b[1;36m0.\u001b[0m72s \u001b]8;id=725621;file:///disks/local/c.4t_4/oscar/zhtw-dataset-cleaning/.venv/lib/python3.10/site-packages/text_dedup/utils/timer.py\u001b\\\u001b[2mtimer.py\u001b[0m\u001b]8;;\u001b\\\u001b[2m:\u001b[0m\u001b]8;id=228181;file:///disks/local/c.4t_4/oscar/zhtw-dataset-cleaning/.venv/lib/python3.10/site-packages/text_dedup/utils/timer.py#65\u001b\\\u001b[2m65\u001b[0m\u001b]8;;\u001b\\\n",
      "\u001b[2;36m                   \u001b[0m\u001b[2;36m \u001b[0m\u001b[34mINFO    \u001b[0m Cleaning                        : \u001b[1;36m0.\u001b[0m06s \u001b]8;id=723086;file:///disks/local/c.4t_4/oscar/zhtw-dataset-cleaning/.venv/lib/python3.10/site-packages/text_dedup/utils/timer.py\u001b\\\u001b[2mtimer.py\u001b[0m\u001b]8;;\u001b\\\u001b[2m:\u001b[0m\u001b]8;id=17086;file:///disks/local/c.4t_4/oscar/zhtw-dataset-cleaning/.venv/lib/python3.10/site-packages/text_dedup/utils/timer.py#65\u001b\\\u001b[2m65\u001b[0m\u001b]8;;\u001b\\\n",
      "\u001b[2;36m                   \u001b[0m\u001b[2;36m \u001b[0m\u001b[34mINFO    \u001b[0m Total                           :       \u001b]8;id=893572;file:///disks/local/c.4t_4/oscar/zhtw-dataset-cleaning/.venv/lib/python3.10/site-packages/text_dedup/utils/timer.py\u001b\\\u001b[2mtimer.py\u001b[0m\u001b]8;;\u001b\\\u001b[2m:\u001b[0m\u001b]8;id=23263;file:///disks/local/c.4t_4/oscar/zhtw-dataset-cleaning/.venv/lib/python3.10/site-packages/text_dedup/utils/timer.py#65\u001b\\\u001b[2m65\u001b[0m\u001b]8;;\u001b\\\n",
      "\u001b[2;36m                    \u001b[0m         \u001b[1;36m44.\u001b[0m61s                                  \u001b[2m           \u001b[0m\n",
      "\u001b[2;36m                   \u001b[0m\u001b[2;36m \u001b[0m\u001b[34mINFO    \u001b[0m Before                          :    \u001b]8;id=604626;file:///disks/local/c.4t_4/oscar/zhtw-dataset-cleaning/.venv/lib/python3.10/site-packages/text_dedup/minhash.py\u001b\\\u001b[2mminhash.py\u001b[0m\u001b]8;;\u001b\\\u001b[2m:\u001b[0m\u001b]8;id=340859;file:///disks/local/c.4t_4/oscar/zhtw-dataset-cleaning/.venv/lib/python3.10/site-packages/text_dedup/minhash.py#308\u001b\\\u001b[2m308\u001b[0m\u001b]8;;\u001b\\\n",
      "\u001b[2;36m                    \u001b[0m         \u001b[1;36m86859\u001b[0m                                \u001b[2m              \u001b[0m\n",
      "\u001b[2;36m                   \u001b[0m\u001b[2;36m \u001b[0m\u001b[34mINFO    \u001b[0m After                           :    \u001b]8;id=868331;file:///disks/local/c.4t_4/oscar/zhtw-dataset-cleaning/.venv/lib/python3.10/site-packages/text_dedup/minhash.py\u001b\\\u001b[2mminhash.py\u001b[0m\u001b]8;;\u001b\\\u001b[2m:\u001b[0m\u001b]8;id=761549;file:///disks/local/c.4t_4/oscar/zhtw-dataset-cleaning/.venv/lib/python3.10/site-packages/text_dedup/minhash.py#309\u001b\\\u001b[2m309\u001b[0m\u001b]8;;\u001b\\\n",
      "\u001b[2;36m                    \u001b[0m         \u001b[1;36m83668\u001b[0m                                \u001b[2m              \u001b[0m\n"
     ]
    }
   ],
   "source": [
    "!python -m text_dedup.minhash \\\n",
    "    --path benchang1110/humantw \\\n",
    "    --split train \\\n",
    "    --output humantw_dedup \\\n",
    "    --column article"
   ]
  },
  {
   "cell_type": "code",
   "execution_count": 18,
   "metadata": {},
   "outputs": [
    {
     "name": "stdout",
     "output_type": "stream",
     "text": [
      "Iterating MinHashes...: 100%|███████████████████| 31/31 [00:21<00:00,  1.44it/s]\n",
      "\u001b[2;36m[05/06/24 20:30:41]\u001b[0m\u001b[2;36m \u001b[0m\u001b[34mINFO    \u001b[0m Number of clusters: \u001b[1;36m25\u001b[0m               \u001b]8;id=387798;file:///disks/local/c.4t_4/oscar/zhtw-dataset-cleaning/.venv/lib/python3.10/site-packages/text_dedup/minhash.py\u001b\\\u001b[2mminhash.py\u001b[0m\u001b]8;;\u001b\\\u001b[2m:\u001b[0m\u001b]8;id=904010;file:///disks/local/c.4t_4/oscar/zhtw-dataset-cleaning/.venv/lib/python3.10/site-packages/text_dedup/minhash.py#265\u001b\\\u001b[2m265\u001b[0m\u001b]8;;\u001b\\\n",
      "Clustering...: 100%|████████████████████████████| 25/25 [00:01<00:00, 18.02it/s]\n",
      "\u001b[2;36m[05/06/24 20:30:42]\u001b[0m\u001b[2;36m \u001b[0m\u001b[34mINFO    \u001b[0m Number of edges: \u001b[1;36m446\u001b[0m                 \u001b]8;id=503268;file:///disks/local/c.4t_4/oscar/zhtw-dataset-cleaning/.venv/lib/python3.10/site-packages/text_dedup/minhash.py\u001b\\\u001b[2mminhash.py\u001b[0m\u001b]8;;\u001b\\\u001b[2m:\u001b[0m\u001b]8;id=428628;file:///disks/local/c.4t_4/oscar/zhtw-dataset-cleaning/.venv/lib/python3.10/site-packages/text_dedup/minhash.py#275\u001b\\\u001b[2m275\u001b[0m\u001b]8;;\u001b\\\n",
      "Finding clusters... (num_proc=40): 100%|█| 307781/307781 [00:01<00:00, 172912.99\n",
      "Filtering clusters... (num_proc=40): 100%|█| 307781/307781 [00:00<00:00, 696834.\n",
      "Saving the dataset (1/1 shards): 100%|█| 307555/307555 [00:01<00:00, 245275.97 e\n",
      "\u001b[2;36m[05/06/24 20:30:49]\u001b[0m\u001b[2;36m \u001b[0m\u001b[34mINFO    \u001b[0m Loading                         : \u001b[1;36m5.\u001b[0m07s \u001b]8;id=581387;file:///disks/local/c.4t_4/oscar/zhtw-dataset-cleaning/.venv/lib/python3.10/site-packages/text_dedup/utils/timer.py\u001b\\\u001b[2mtimer.py\u001b[0m\u001b]8;;\u001b\\\u001b[2m:\u001b[0m\u001b]8;id=401571;file:///disks/local/c.4t_4/oscar/zhtw-dataset-cleaning/.venv/lib/python3.10/site-packages/text_dedup/utils/timer.py#65\u001b\\\u001b[2m65\u001b[0m\u001b]8;;\u001b\\\n",
      "\u001b[2;36m                   \u001b[0m\u001b[2;36m \u001b[0m\u001b[34mINFO    \u001b[0m MinHashing                      : \u001b[1;36m0.\u001b[0m32s \u001b]8;id=262104;file:///disks/local/c.4t_4/oscar/zhtw-dataset-cleaning/.venv/lib/python3.10/site-packages/text_dedup/utils/timer.py\u001b\\\u001b[2mtimer.py\u001b[0m\u001b]8;;\u001b\\\u001b[2m:\u001b[0m\u001b]8;id=211587;file:///disks/local/c.4t_4/oscar/zhtw-dataset-cleaning/.venv/lib/python3.10/site-packages/text_dedup/utils/timer.py#65\u001b\\\u001b[2m65\u001b[0m\u001b]8;;\u001b\\\n",
      "\u001b[2;36m                   \u001b[0m\u001b[2;36m \u001b[0m\u001b[34mINFO    \u001b[0m Clustering                      :       \u001b]8;id=272281;file:///disks/local/c.4t_4/oscar/zhtw-dataset-cleaning/.venv/lib/python3.10/site-packages/text_dedup/utils/timer.py\u001b\\\u001b[2mtimer.py\u001b[0m\u001b]8;;\u001b\\\u001b[2m:\u001b[0m\u001b]8;id=500968;file:///disks/local/c.4t_4/oscar/zhtw-dataset-cleaning/.venv/lib/python3.10/site-packages/text_dedup/utils/timer.py#65\u001b\\\u001b[2m65\u001b[0m\u001b]8;;\u001b\\\n",
      "\u001b[2;36m                    \u001b[0m         \u001b[1;36m22.\u001b[0m95s                                  \u001b[2m           \u001b[0m\n",
      "\u001b[2;36m                   \u001b[0m\u001b[2;36m \u001b[0m\u001b[34mINFO    \u001b[0m Filtering                       : \u001b[1;36m5.\u001b[0m55s \u001b]8;id=61872;file:///disks/local/c.4t_4/oscar/zhtw-dataset-cleaning/.venv/lib/python3.10/site-packages/text_dedup/utils/timer.py\u001b\\\u001b[2mtimer.py\u001b[0m\u001b]8;;\u001b\\\u001b[2m:\u001b[0m\u001b]8;id=722001;file:///disks/local/c.4t_4/oscar/zhtw-dataset-cleaning/.venv/lib/python3.10/site-packages/text_dedup/utils/timer.py#65\u001b\\\u001b[2m65\u001b[0m\u001b]8;;\u001b\\\n",
      "\u001b[2;36m                   \u001b[0m\u001b[2;36m \u001b[0m\u001b[34mINFO    \u001b[0m Saving                          : \u001b[1;36m1.\u001b[0m29s \u001b]8;id=75117;file:///disks/local/c.4t_4/oscar/zhtw-dataset-cleaning/.venv/lib/python3.10/site-packages/text_dedup/utils/timer.py\u001b\\\u001b[2mtimer.py\u001b[0m\u001b]8;;\u001b\\\u001b[2m:\u001b[0m\u001b]8;id=137387;file:///disks/local/c.4t_4/oscar/zhtw-dataset-cleaning/.venv/lib/python3.10/site-packages/text_dedup/utils/timer.py#65\u001b\\\u001b[2m65\u001b[0m\u001b]8;;\u001b\\\n",
      "\u001b[2;36m                   \u001b[0m\u001b[2;36m \u001b[0m\u001b[34mINFO    \u001b[0m Cleaning                        : \u001b[1;36m0.\u001b[0m02s \u001b]8;id=596590;file:///disks/local/c.4t_4/oscar/zhtw-dataset-cleaning/.venv/lib/python3.10/site-packages/text_dedup/utils/timer.py\u001b\\\u001b[2mtimer.py\u001b[0m\u001b]8;;\u001b\\\u001b[2m:\u001b[0m\u001b]8;id=682040;file:///disks/local/c.4t_4/oscar/zhtw-dataset-cleaning/.venv/lib/python3.10/site-packages/text_dedup/utils/timer.py#65\u001b\\\u001b[2m65\u001b[0m\u001b]8;;\u001b\\\n",
      "\u001b[2;36m                   \u001b[0m\u001b[2;36m \u001b[0m\u001b[34mINFO    \u001b[0m Total                           :       \u001b]8;id=104304;file:///disks/local/c.4t_4/oscar/zhtw-dataset-cleaning/.venv/lib/python3.10/site-packages/text_dedup/utils/timer.py\u001b\\\u001b[2mtimer.py\u001b[0m\u001b]8;;\u001b\\\u001b[2m:\u001b[0m\u001b]8;id=304831;file:///disks/local/c.4t_4/oscar/zhtw-dataset-cleaning/.venv/lib/python3.10/site-packages/text_dedup/utils/timer.py#65\u001b\\\u001b[2m65\u001b[0m\u001b]8;;\u001b\\\n",
      "\u001b[2;36m                    \u001b[0m         \u001b[1;36m35.\u001b[0m19s                                  \u001b[2m           \u001b[0m\n",
      "\u001b[2;36m                   \u001b[0m\u001b[2;36m \u001b[0m\u001b[34mINFO    \u001b[0m Before                          :    \u001b]8;id=433466;file:///disks/local/c.4t_4/oscar/zhtw-dataset-cleaning/.venv/lib/python3.10/site-packages/text_dedup/minhash.py\u001b\\\u001b[2mminhash.py\u001b[0m\u001b]8;;\u001b\\\u001b[2m:\u001b[0m\u001b]8;id=866113;file:///disks/local/c.4t_4/oscar/zhtw-dataset-cleaning/.venv/lib/python3.10/site-packages/text_dedup/minhash.py#308\u001b\\\u001b[2m308\u001b[0m\u001b]8;;\u001b\\\n",
      "\u001b[2;36m                    \u001b[0m         \u001b[1;36m307781\u001b[0m                               \u001b[2m              \u001b[0m\n",
      "\u001b[2;36m                   \u001b[0m\u001b[2;36m \u001b[0m\u001b[34mINFO    \u001b[0m After                           :    \u001b]8;id=499656;file:///disks/local/c.4t_4/oscar/zhtw-dataset-cleaning/.venv/lib/python3.10/site-packages/text_dedup/minhash.py\u001b\\\u001b[2mminhash.py\u001b[0m\u001b]8;;\u001b\\\u001b[2m:\u001b[0m\u001b]8;id=746438;file:///disks/local/c.4t_4/oscar/zhtw-dataset-cleaning/.venv/lib/python3.10/site-packages/text_dedup/minhash.py#309\u001b\\\u001b[2m309\u001b[0m\u001b]8;;\u001b\\\n",
      "\u001b[2;36m                    \u001b[0m         \u001b[1;36m307555\u001b[0m                               \u001b[2m              \u001b[0m\n",
      "Map (num_proc=40): 100%|█████| 307555/307555 [00:00<00:00, 451472.46 examples/s]\n",
      "Filter (num_proc=40): 100%|██| 307555/307555 [00:00<00:00, 920101.23 examples/s]\n",
      "Fingerprinting... (num_proc=40): 100%|█| 216826/216826 [00:03<00:00, 67146.89 ex\n",
      "Iterating MinHashes...: 100%|███████████████████| 22/22 [00:16<00:00,  1.34it/s]\n",
      "\u001b[2;36m[05/06/24 20:31:16]\u001b[0m\u001b[2;36m \u001b[0m\u001b[34mINFO    \u001b[0m Number of clusters: \u001b[1;36m25\u001b[0m               \u001b]8;id=402805;file:///disks/local/c.4t_4/oscar/zhtw-dataset-cleaning/.venv/lib/python3.10/site-packages/text_dedup/minhash.py\u001b\\\u001b[2mminhash.py\u001b[0m\u001b]8;;\u001b\\\u001b[2m:\u001b[0m\u001b]8;id=458959;file:///disks/local/c.4t_4/oscar/zhtw-dataset-cleaning/.venv/lib/python3.10/site-packages/text_dedup/minhash.py#265\u001b\\\u001b[2m265\u001b[0m\u001b]8;;\u001b\\\n",
      "Clustering...: 100%|████████████████████████████| 25/25 [00:00<00:00, 25.98it/s]\n",
      "\u001b[2;36m[05/06/24 20:31:17]\u001b[0m\u001b[2;36m \u001b[0m\u001b[34mINFO    \u001b[0m Number of edges: \u001b[1;36m122\u001b[0m                 \u001b]8;id=870445;file:///disks/local/c.4t_4/oscar/zhtw-dataset-cleaning/.venv/lib/python3.10/site-packages/text_dedup/minhash.py\u001b\\\u001b[2mminhash.py\u001b[0m\u001b]8;;\u001b\\\u001b[2m:\u001b[0m\u001b]8;id=688670;file:///disks/local/c.4t_4/oscar/zhtw-dataset-cleaning/.venv/lib/python3.10/site-packages/text_dedup/minhash.py#275\u001b\\\u001b[2m275\u001b[0m\u001b]8;;\u001b\\\n",
      "Finding clusters... (num_proc=40): 100%|█| 216826/216826 [00:01<00:00, 156630.35\n",
      "Filtering clusters... (num_proc=40): 100%|█| 216826/216826 [00:00<00:00, 559367.\n",
      "Saving the dataset (1/1 shards): 100%|█| 216762/216762 [00:00<00:00, 251110.66 e\n",
      "\u001b[2;36m[05/06/24 20:31:22]\u001b[0m\u001b[2;36m \u001b[0m\u001b[34mINFO    \u001b[0m Loading                         : \u001b[1;36m1.\u001b[0m43s \u001b]8;id=280597;file:///disks/local/c.4t_4/oscar/zhtw-dataset-cleaning/.venv/lib/python3.10/site-packages/text_dedup/utils/timer.py\u001b\\\u001b[2mtimer.py\u001b[0m\u001b]8;;\u001b\\\u001b[2m:\u001b[0m\u001b]8;id=170834;file:///disks/local/c.4t_4/oscar/zhtw-dataset-cleaning/.venv/lib/python3.10/site-packages/text_dedup/utils/timer.py#65\u001b\\\u001b[2m65\u001b[0m\u001b]8;;\u001b\\\n",
      "\u001b[2;36m                   \u001b[0m\u001b[2;36m \u001b[0m\u001b[34mINFO    \u001b[0m MinHashing                      : \u001b[1;36m3.\u001b[0m59s \u001b]8;id=405100;file:///disks/local/c.4t_4/oscar/zhtw-dataset-cleaning/.venv/lib/python3.10/site-packages/text_dedup/utils/timer.py\u001b\\\u001b[2mtimer.py\u001b[0m\u001b]8;;\u001b\\\u001b[2m:\u001b[0m\u001b]8;id=947985;file:///disks/local/c.4t_4/oscar/zhtw-dataset-cleaning/.venv/lib/python3.10/site-packages/text_dedup/utils/timer.py#65\u001b\\\u001b[2m65\u001b[0m\u001b]8;;\u001b\\\n",
      "\u001b[2;36m                   \u001b[0m\u001b[2;36m \u001b[0m\u001b[34mINFO    \u001b[0m Clustering                      :       \u001b]8;id=472989;file:///disks/local/c.4t_4/oscar/zhtw-dataset-cleaning/.venv/lib/python3.10/site-packages/text_dedup/utils/timer.py\u001b\\\u001b[2mtimer.py\u001b[0m\u001b]8;;\u001b\\\u001b[2m:\u001b[0m\u001b]8;id=936386;file:///disks/local/c.4t_4/oscar/zhtw-dataset-cleaning/.venv/lib/python3.10/site-packages/text_dedup/utils/timer.py#65\u001b\\\u001b[2m65\u001b[0m\u001b]8;;\u001b\\\n",
      "\u001b[2;36m                    \u001b[0m         \u001b[1;36m17.\u001b[0m38s                                  \u001b[2m           \u001b[0m\n",
      "\u001b[2;36m                   \u001b[0m\u001b[2;36m \u001b[0m\u001b[34mINFO    \u001b[0m Filtering                       : \u001b[1;36m4.\u001b[0m67s \u001b]8;id=519661;file:///disks/local/c.4t_4/oscar/zhtw-dataset-cleaning/.venv/lib/python3.10/site-packages/text_dedup/utils/timer.py\u001b\\\u001b[2mtimer.py\u001b[0m\u001b]8;;\u001b\\\u001b[2m:\u001b[0m\u001b]8;id=403098;file:///disks/local/c.4t_4/oscar/zhtw-dataset-cleaning/.venv/lib/python3.10/site-packages/text_dedup/utils/timer.py#65\u001b\\\u001b[2m65\u001b[0m\u001b]8;;\u001b\\\n",
      "\u001b[2;36m                   \u001b[0m\u001b[2;36m \u001b[0m\u001b[34mINFO    \u001b[0m Saving                          : \u001b[1;36m0.\u001b[0m88s \u001b]8;id=519516;file:///disks/local/c.4t_4/oscar/zhtw-dataset-cleaning/.venv/lib/python3.10/site-packages/text_dedup/utils/timer.py\u001b\\\u001b[2mtimer.py\u001b[0m\u001b]8;;\u001b\\\u001b[2m:\u001b[0m\u001b]8;id=322297;file:///disks/local/c.4t_4/oscar/zhtw-dataset-cleaning/.venv/lib/python3.10/site-packages/text_dedup/utils/timer.py#65\u001b\\\u001b[2m65\u001b[0m\u001b]8;;\u001b\\\n",
      "\u001b[2;36m                   \u001b[0m\u001b[2;36m \u001b[0m\u001b[34mINFO    \u001b[0m Cleaning                        : \u001b[1;36m0.\u001b[0m02s \u001b]8;id=740561;file:///disks/local/c.4t_4/oscar/zhtw-dataset-cleaning/.venv/lib/python3.10/site-packages/text_dedup/utils/timer.py\u001b\\\u001b[2mtimer.py\u001b[0m\u001b]8;;\u001b\\\u001b[2m:\u001b[0m\u001b]8;id=465140;file:///disks/local/c.4t_4/oscar/zhtw-dataset-cleaning/.venv/lib/python3.10/site-packages/text_dedup/utils/timer.py#65\u001b\\\u001b[2m65\u001b[0m\u001b]8;;\u001b\\\n",
      "\u001b[2;36m                   \u001b[0m\u001b[2;36m \u001b[0m\u001b[34mINFO    \u001b[0m Total                           :       \u001b]8;id=576233;file:///disks/local/c.4t_4/oscar/zhtw-dataset-cleaning/.venv/lib/python3.10/site-packages/text_dedup/utils/timer.py\u001b\\\u001b[2mtimer.py\u001b[0m\u001b]8;;\u001b\\\u001b[2m:\u001b[0m\u001b]8;id=408560;file:///disks/local/c.4t_4/oscar/zhtw-dataset-cleaning/.venv/lib/python3.10/site-packages/text_dedup/utils/timer.py#65\u001b\\\u001b[2m65\u001b[0m\u001b]8;;\u001b\\\n",
      "\u001b[2;36m                    \u001b[0m         \u001b[1;36m27.\u001b[0m98s                                  \u001b[2m           \u001b[0m\n",
      "\u001b[2;36m                   \u001b[0m\u001b[2;36m \u001b[0m\u001b[34mINFO    \u001b[0m Before                          :    \u001b]8;id=588343;file:///disks/local/c.4t_4/oscar/zhtw-dataset-cleaning/.venv/lib/python3.10/site-packages/text_dedup/minhash.py\u001b\\\u001b[2mminhash.py\u001b[0m\u001b]8;;\u001b\\\u001b[2m:\u001b[0m\u001b]8;id=245568;file:///disks/local/c.4t_4/oscar/zhtw-dataset-cleaning/.venv/lib/python3.10/site-packages/text_dedup/minhash.py#308\u001b\\\u001b[2m308\u001b[0m\u001b]8;;\u001b\\\n",
      "\u001b[2;36m                    \u001b[0m         \u001b[1;36m216826\u001b[0m                               \u001b[2m              \u001b[0m\n",
      "\u001b[2;36m                   \u001b[0m\u001b[2;36m \u001b[0m\u001b[34mINFO    \u001b[0m After                           :    \u001b]8;id=991029;file:///disks/local/c.4t_4/oscar/zhtw-dataset-cleaning/.venv/lib/python3.10/site-packages/text_dedup/minhash.py\u001b\\\u001b[2mminhash.py\u001b[0m\u001b]8;;\u001b\\\u001b[2m:\u001b[0m\u001b]8;id=489254;file:///disks/local/c.4t_4/oscar/zhtw-dataset-cleaning/.venv/lib/python3.10/site-packages/text_dedup/minhash.py#309\u001b\\\u001b[2m309\u001b[0m\u001b]8;;\u001b\\\n",
      "\u001b[2;36m                    \u001b[0m         \u001b[1;36m216762\u001b[0m                               \u001b[2m              \u001b[0m\n"
     ]
    }
   ],
   "source": [
    "!python -m text_dedup.minhash \\\n",
    "    --path zetavg/coct-en-zh-tw-translations-twp-300k \\\n",
    "    --split train \\\n",
    "    --output coct_dedup_tmp \\\n",
    "    --column en\n",
    "\n",
    "!python -m text_dedup.minhash \\\n",
    "    --path ./coct_dedup_tmp \\\n",
    "    --local \\\n",
    "    --output coct_dedup \\\n",
    "    --column ch\n",
    "\n",
    "!rm -rf coct_dedup_tmp"
   ]
  },
  {
   "cell_type": "code",
   "execution_count": 31,
   "metadata": {},
   "outputs": [
    {
     "name": "stderr",
     "output_type": "stream",
     "text": [
      "Saving the dataset (18/18 shards): 100%|██████████| 5184645/5184645 [00:12<00:00, 426899.61 examples/s]\n"
     ]
    },
    {
     "name": "stdout",
     "output_type": "stream",
     "text": [
      "Loading dataset from disk: 100%|███████████████| 18/18 [00:00<00:00, 410.81it/s]\n",
      "Map (num_proc=40): 100%|███| 5184645/5184645 [00:17<00:00, 302420.83 examples/s]\n",
      "Filter (num_proc=40): 100%|█| 5184645/5184645 [00:12<00:00, 411246.97 examples/s\n",
      "Fingerprinting... (num_proc=40): 100%|█| 5166958/5166958 [03:57<00:00, 21790.60 \n",
      "Iterating MinHashes...: 100%|█████████████████| 517/517 [07:54<00:00,  1.09it/s]\n",
      "\u001b[2;36m[05/06/24 21:05:51]\u001b[0m\u001b[2;36m \u001b[0m\u001b[34mINFO    \u001b[0m Number of clusters: \u001b[1;36m25\u001b[0m               \u001b]8;id=230202;file:///disks/local/c.4t_4/oscar/zhtw-dataset-cleaning/.venv/lib/python3.10/site-packages/text_dedup/minhash.py\u001b\\\u001b[2mminhash.py\u001b[0m\u001b]8;;\u001b\\\u001b[2m:\u001b[0m\u001b]8;id=130795;file:///disks/local/c.4t_4/oscar/zhtw-dataset-cleaning/.venv/lib/python3.10/site-packages/text_dedup/minhash.py#265\u001b\\\u001b[2m265\u001b[0m\u001b]8;;\u001b\\\n",
      "Clustering...: 100%|████████████████████████████| 25/25 [00:36<00:00,  1.46s/it]\n",
      "\u001b[2;36m[05/06/24 21:06:28]\u001b[0m\u001b[2;36m \u001b[0m\u001b[34mINFO    \u001b[0m Number of edges: \u001b[1;36m856866\u001b[0m              \u001b]8;id=848900;file:///disks/local/c.4t_4/oscar/zhtw-dataset-cleaning/.venv/lib/python3.10/site-packages/text_dedup/minhash.py\u001b\\\u001b[2mminhash.py\u001b[0m\u001b]8;;\u001b\\\u001b[2m:\u001b[0m\u001b]8;id=617070;file:///disks/local/c.4t_4/oscar/zhtw-dataset-cleaning/.venv/lib/python3.10/site-packages/text_dedup/minhash.py#275\u001b\\\u001b[2m275\u001b[0m\u001b]8;;\u001b\\\n",
      "Finding clusters... (num_proc=40): 100%|█| 5166958/5166958 [00:37<00:00, 137511.\n",
      "Filtering clusters... (num_proc=40): 100%|█| 5166958/5166958 [00:08<00:00, 61040\n",
      "Saving the dataset (17/17 shards): 100%|█| 4856777/4856777 [00:53<00:00, 91627.5\n",
      "\u001b[2;36m[05/06/24 21:09:14]\u001b[0m\u001b[2;36m \u001b[0m\u001b[34mINFO    \u001b[0m Loading                         :       \u001b]8;id=763798;file:///disks/local/c.4t_4/oscar/zhtw-dataset-cleaning/.venv/lib/python3.10/site-packages/text_dedup/utils/timer.py\u001b\\\u001b[2mtimer.py\u001b[0m\u001b]8;;\u001b\\\u001b[2m:\u001b[0m\u001b]8;id=64248;file:///disks/local/c.4t_4/oscar/zhtw-dataset-cleaning/.venv/lib/python3.10/site-packages/text_dedup/utils/timer.py#65\u001b\\\u001b[2m65\u001b[0m\u001b]8;;\u001b\\\n",
      "\u001b[2;36m                    \u001b[0m         \u001b[1;36m30.\u001b[0m80s                                  \u001b[2m           \u001b[0m\n",
      "\u001b[2;36m                   \u001b[0m\u001b[2;36m \u001b[0m\u001b[34mINFO    \u001b[0m MinHashing                      :       \u001b]8;id=641447;file:///disks/local/c.4t_4/oscar/zhtw-dataset-cleaning/.venv/lib/python3.10/site-packages/text_dedup/utils/timer.py\u001b\\\u001b[2mtimer.py\u001b[0m\u001b]8;;\u001b\\\u001b[2m:\u001b[0m\u001b]8;id=240991;file:///disks/local/c.4t_4/oscar/zhtw-dataset-cleaning/.venv/lib/python3.10/site-packages/text_dedup/utils/timer.py#65\u001b\\\u001b[2m65\u001b[0m\u001b]8;;\u001b\\\n",
      "\u001b[2;36m                    \u001b[0m         \u001b[1;36m238.\u001b[0m35s                                 \u001b[2m           \u001b[0m\n",
      "\u001b[2;36m                   \u001b[0m\u001b[2;36m \u001b[0m\u001b[34mINFO    \u001b[0m Clustering                      :       \u001b]8;id=289663;file:///disks/local/c.4t_4/oscar/zhtw-dataset-cleaning/.venv/lib/python3.10/site-packages/text_dedup/utils/timer.py\u001b\\\u001b[2mtimer.py\u001b[0m\u001b]8;;\u001b\\\u001b[2m:\u001b[0m\u001b]8;id=436133;file:///disks/local/c.4t_4/oscar/zhtw-dataset-cleaning/.venv/lib/python3.10/site-packages/text_dedup/utils/timer.py#65\u001b\\\u001b[2m65\u001b[0m\u001b]8;;\u001b\\\n",
      "\u001b[2;36m                    \u001b[0m         \u001b[1;36m511.\u001b[0m55s                                 \u001b[2m           \u001b[0m\n",
      "\u001b[2;36m                   \u001b[0m\u001b[2;36m \u001b[0m\u001b[34mINFO    \u001b[0m Filtering                       :       \u001b]8;id=903310;file:///disks/local/c.4t_4/oscar/zhtw-dataset-cleaning/.venv/lib/python3.10/site-packages/text_dedup/utils/timer.py\u001b\\\u001b[2mtimer.py\u001b[0m\u001b]8;;\u001b\\\u001b[2m:\u001b[0m\u001b]8;id=378287;file:///disks/local/c.4t_4/oscar/zhtw-dataset-cleaning/.venv/lib/python3.10/site-packages/text_dedup/utils/timer.py#65\u001b\\\u001b[2m65\u001b[0m\u001b]8;;\u001b\\\n",
      "\u001b[2;36m                    \u001b[0m         \u001b[1;36m110.\u001b[0m86s                                 \u001b[2m           \u001b[0m\n",
      "\u001b[2;36m                   \u001b[0m\u001b[2;36m \u001b[0m\u001b[34mINFO    \u001b[0m Saving                          :       \u001b]8;id=799100;file:///disks/local/c.4t_4/oscar/zhtw-dataset-cleaning/.venv/lib/python3.10/site-packages/text_dedup/utils/timer.py\u001b\\\u001b[2mtimer.py\u001b[0m\u001b]8;;\u001b\\\u001b[2m:\u001b[0m\u001b]8;id=149022;file:///disks/local/c.4t_4/oscar/zhtw-dataset-cleaning/.venv/lib/python3.10/site-packages/text_dedup/utils/timer.py#65\u001b\\\u001b[2m65\u001b[0m\u001b]8;;\u001b\\\n",
      "\u001b[2;36m                    \u001b[0m         \u001b[1;36m54.\u001b[0m90s                                  \u001b[2m           \u001b[0m\n",
      "\u001b[2;36m                   \u001b[0m\u001b[2;36m \u001b[0m\u001b[34mINFO    \u001b[0m Cleaning                        : \u001b[1;36m0.\u001b[0m15s \u001b]8;id=535263;file:///disks/local/c.4t_4/oscar/zhtw-dataset-cleaning/.venv/lib/python3.10/site-packages/text_dedup/utils/timer.py\u001b\\\u001b[2mtimer.py\u001b[0m\u001b]8;;\u001b\\\u001b[2m:\u001b[0m\u001b]8;id=125424;file:///disks/local/c.4t_4/oscar/zhtw-dataset-cleaning/.venv/lib/python3.10/site-packages/text_dedup/utils/timer.py#65\u001b\\\u001b[2m65\u001b[0m\u001b]8;;\u001b\\\n",
      "\u001b[2;36m                   \u001b[0m\u001b[2;36m \u001b[0m\u001b[34mINFO    \u001b[0m Total                           :       \u001b]8;id=233513;file:///disks/local/c.4t_4/oscar/zhtw-dataset-cleaning/.venv/lib/python3.10/site-packages/text_dedup/utils/timer.py\u001b\\\u001b[2mtimer.py\u001b[0m\u001b]8;;\u001b\\\u001b[2m:\u001b[0m\u001b]8;id=885126;file:///disks/local/c.4t_4/oscar/zhtw-dataset-cleaning/.venv/lib/python3.10/site-packages/text_dedup/utils/timer.py#65\u001b\\\u001b[2m65\u001b[0m\u001b]8;;\u001b\\\n",
      "\u001b[2;36m                    \u001b[0m         \u001b[1;36m946.\u001b[0m61s                                 \u001b[2m           \u001b[0m\n",
      "\u001b[2;36m                   \u001b[0m\u001b[2;36m \u001b[0m\u001b[34mINFO    \u001b[0m Before                          :    \u001b]8;id=628188;file:///disks/local/c.4t_4/oscar/zhtw-dataset-cleaning/.venv/lib/python3.10/site-packages/text_dedup/minhash.py\u001b\\\u001b[2mminhash.py\u001b[0m\u001b]8;;\u001b\\\u001b[2m:\u001b[0m\u001b]8;id=979406;file:///disks/local/c.4t_4/oscar/zhtw-dataset-cleaning/.venv/lib/python3.10/site-packages/text_dedup/minhash.py#308\u001b\\\u001b[2m308\u001b[0m\u001b]8;;\u001b\\\n",
      "\u001b[2;36m                    \u001b[0m         \u001b[1;36m5166958\u001b[0m                              \u001b[2m              \u001b[0m\n",
      "\u001b[2;36m                   \u001b[0m\u001b[2;36m \u001b[0m\u001b[34mINFO    \u001b[0m After                           :    \u001b]8;id=611347;file:///disks/local/c.4t_4/oscar/zhtw-dataset-cleaning/.venv/lib/python3.10/site-packages/text_dedup/minhash.py\u001b\\\u001b[2mminhash.py\u001b[0m\u001b]8;;\u001b\\\u001b[2m:\u001b[0m\u001b]8;id=464078;file:///disks/local/c.4t_4/oscar/zhtw-dataset-cleaning/.venv/lib/python3.10/site-packages/text_dedup/minhash.py#309\u001b\\\u001b[2m309\u001b[0m\u001b]8;;\u001b\\\n",
      "\u001b[2;36m                    \u001b[0m         \u001b[1;36m4856777\u001b[0m                              \u001b[2m              \u001b[0m\n"
     ]
    }
   ],
   "source": [
    "dst = load_dataset('botp/yentinglin-zh_TW_c4', cache_dir=\".cache\")\n",
    "# merge train and validation split into single dataset and save\n",
    "dst = concatenate_datasets([dst['train'], dst['validation']])\n",
    "dst.save_to_disk(\"zh-tw-c4_train_merged\")\n",
    "\n",
    "!python -m text_dedup.minhash \\\n",
    "    --path zh-tw-c4_train_merged \\\n",
    "    --local \\\n",
    "    --split train \\\n",
    "    --output c4-zhtw_dedup \\\n",
    "    --column text\n",
    "!rm -rf zh-tw-c4_train_merged"
   ]
  },
  {
   "cell_type": "code",
   "execution_count": null,
   "metadata": {},
   "outputs": [],
   "source": [
    "!python -m text_dedup.minhash \\\n",
    "    --path \"zetavg/CC-100-zh-Hant-merged\" \\\n",
    "    --split train \\\n",
    "    --output cc100-zhtw_dedup \\\n",
    "    --column content"
   ]
  },
  {
   "cell_type": "code",
   "execution_count": 1,
   "metadata": {},
   "outputs": [
    {
     "name": "stdout",
     "output_type": "stream",
     "text": [
      "Loading dataset shards: 100%|███████████████████| 25/25 [00:00<00:00, 39.00it/s]\n",
      "Map (num_proc=40): 100%|███| 2967556/2967556 [00:17<00:00, 167832.84 examples/s]\n",
      "Filter (num_proc=40): 100%|█| 2967556/2967556 [00:13<00:00, 220958.19 examples/s\n",
      "Fingerprinting... (num_proc=40): 100%|█| 2967556/2967556 [04:07<00:00, 11989.64 \n",
      "Iterating MinHashes...: 100%|█████████████████| 297/297 [03:54<00:00,  1.27it/s]\n",
      "\u001b[2;36m[05/06/24 22:03:12]\u001b[0m\u001b[2;36m \u001b[0m\u001b[34mINFO    \u001b[0m Number of clusters: \u001b[1;36m25\u001b[0m               \u001b]8;id=565444;file:///disks/local/c.4t_4/oscar/zhtw-dataset-cleaning/.venv/lib/python3.10/site-packages/text_dedup/minhash.py\u001b\\\u001b[2mminhash.py\u001b[0m\u001b]8;;\u001b\\\u001b[2m:\u001b[0m\u001b]8;id=200468;file:///disks/local/c.4t_4/oscar/zhtw-dataset-cleaning/.venv/lib/python3.10/site-packages/text_dedup/minhash.py#265\u001b\\\u001b[2m265\u001b[0m\u001b]8;;\u001b\\\n",
      "Clustering...: 100%|████████████████████████████| 25/25 [00:29<00:00,  1.19s/it]\n",
      "\u001b[2;36m[05/06/24 22:03:44]\u001b[0m\u001b[2;36m \u001b[0m\u001b[34mINFO    \u001b[0m Number of edges: \u001b[1;36m472727\u001b[0m              \u001b]8;id=867390;file:///disks/local/c.4t_4/oscar/zhtw-dataset-cleaning/.venv/lib/python3.10/site-packages/text_dedup/minhash.py\u001b\\\u001b[2mminhash.py\u001b[0m\u001b]8;;\u001b\\\u001b[2m:\u001b[0m\u001b]8;id=556208;file:///disks/local/c.4t_4/oscar/zhtw-dataset-cleaning/.venv/lib/python3.10/site-packages/text_dedup/minhash.py#275\u001b\\\u001b[2m275\u001b[0m\u001b]8;;\u001b\\\n",
      "Finding clusters... (num_proc=40): 100%|█| 2967556/2967556 [00:18<00:00, 157223.\n",
      "Filtering clusters... (num_proc=40): 100%|█| 2967556/2967556 [00:05<00:00, 51562\n",
      "Saving the dataset (23/23 shards): 100%|█| 2712675/2712675 [00:38<00:00, 70892.3\n",
      "\u001b[2;36m[05/06/24 22:05:08]\u001b[0m\u001b[2;36m \u001b[0m\u001b[34mINFO    \u001b[0m Loading                         :       \u001b]8;id=91737;file:///disks/local/c.4t_4/oscar/zhtw-dataset-cleaning/.venv/lib/python3.10/site-packages/text_dedup/utils/timer.py\u001b\\\u001b[2mtimer.py\u001b[0m\u001b]8;;\u001b\\\u001b[2m:\u001b[0m\u001b]8;id=534086;file:///disks/local/c.4t_4/oscar/zhtw-dataset-cleaning/.venv/lib/python3.10/site-packages/text_dedup/utils/timer.py#65\u001b\\\u001b[2m65\u001b[0m\u001b]8;;\u001b\\\n",
      "\u001b[2;36m                    \u001b[0m         \u001b[1;36m40.\u001b[0m24s                                  \u001b[2m           \u001b[0m\n",
      "\u001b[2;36m                   \u001b[0m\u001b[2;36m \u001b[0m\u001b[34mINFO    \u001b[0m MinHashing                      :       \u001b]8;id=884931;file:///disks/local/c.4t_4/oscar/zhtw-dataset-cleaning/.venv/lib/python3.10/site-packages/text_dedup/utils/timer.py\u001b\\\u001b[2mtimer.py\u001b[0m\u001b]8;;\u001b\\\u001b[2m:\u001b[0m\u001b]8;id=825300;file:///disks/local/c.4t_4/oscar/zhtw-dataset-cleaning/.venv/lib/python3.10/site-packages/text_dedup/utils/timer.py#65\u001b\\\u001b[2m65\u001b[0m\u001b]8;;\u001b\\\n",
      "\u001b[2;36m                    \u001b[0m         \u001b[1;36m248.\u001b[0m47s                                 \u001b[2m           \u001b[0m\n",
      "\u001b[2;36m                   \u001b[0m\u001b[2;36m \u001b[0m\u001b[34mINFO    \u001b[0m Clustering                      :       \u001b]8;id=799200;file:///disks/local/c.4t_4/oscar/zhtw-dataset-cleaning/.venv/lib/python3.10/site-packages/text_dedup/utils/timer.py\u001b\\\u001b[2mtimer.py\u001b[0m\u001b]8;;\u001b\\\u001b[2m:\u001b[0m\u001b]8;id=1618;file:///disks/local/c.4t_4/oscar/zhtw-dataset-cleaning/.venv/lib/python3.10/site-packages/text_dedup/utils/timer.py#65\u001b\\\u001b[2m65\u001b[0m\u001b]8;;\u001b\\\n",
      "\u001b[2;36m                    \u001b[0m         \u001b[1;36m266.\u001b[0m62s                                 \u001b[2m           \u001b[0m\n",
      "\u001b[2;36m                   \u001b[0m\u001b[2;36m \u001b[0m\u001b[34mINFO    \u001b[0m Filtering                       :       \u001b]8;id=248098;file:///disks/local/c.4t_4/oscar/zhtw-dataset-cleaning/.venv/lib/python3.10/site-packages/text_dedup/utils/timer.py\u001b\\\u001b[2mtimer.py\u001b[0m\u001b]8;;\u001b\\\u001b[2m:\u001b[0m\u001b]8;id=445860;file:///disks/local/c.4t_4/oscar/zhtw-dataset-cleaning/.venv/lib/python3.10/site-packages/text_dedup/utils/timer.py#65\u001b\\\u001b[2m65\u001b[0m\u001b]8;;\u001b\\\n",
      "\u001b[2;36m                    \u001b[0m         \u001b[1;36m43.\u001b[0m42s                                  \u001b[2m           \u001b[0m\n",
      "\u001b[2;36m                   \u001b[0m\u001b[2;36m \u001b[0m\u001b[34mINFO    \u001b[0m Saving                          :       \u001b]8;id=328692;file:///disks/local/c.4t_4/oscar/zhtw-dataset-cleaning/.venv/lib/python3.10/site-packages/text_dedup/utils/timer.py\u001b\\\u001b[2mtimer.py\u001b[0m\u001b]8;;\u001b\\\u001b[2m:\u001b[0m\u001b]8;id=184775;file:///disks/local/c.4t_4/oscar/zhtw-dataset-cleaning/.venv/lib/python3.10/site-packages/text_dedup/utils/timer.py#65\u001b\\\u001b[2m65\u001b[0m\u001b]8;;\u001b\\\n",
      "\u001b[2;36m                    \u001b[0m         \u001b[1;36m38.\u001b[0m40s                                  \u001b[2m           \u001b[0m\n",
      "\u001b[2;36m                   \u001b[0m\u001b[2;36m \u001b[0m\u001b[34mINFO    \u001b[0m Cleaning                        : \u001b[1;36m2.\u001b[0m03s \u001b]8;id=420737;file:///disks/local/c.4t_4/oscar/zhtw-dataset-cleaning/.venv/lib/python3.10/site-packages/text_dedup/utils/timer.py\u001b\\\u001b[2mtimer.py\u001b[0m\u001b]8;;\u001b\\\u001b[2m:\u001b[0m\u001b]8;id=601876;file:///disks/local/c.4t_4/oscar/zhtw-dataset-cleaning/.venv/lib/python3.10/site-packages/text_dedup/utils/timer.py#65\u001b\\\u001b[2m65\u001b[0m\u001b]8;;\u001b\\\n",
      "\u001b[2;36m                   \u001b[0m\u001b[2;36m \u001b[0m\u001b[34mINFO    \u001b[0m Total                           :       \u001b]8;id=590018;file:///disks/local/c.4t_4/oscar/zhtw-dataset-cleaning/.venv/lib/python3.10/site-packages/text_dedup/utils/timer.py\u001b\\\u001b[2mtimer.py\u001b[0m\u001b]8;;\u001b\\\u001b[2m:\u001b[0m\u001b]8;id=945214;file:///disks/local/c.4t_4/oscar/zhtw-dataset-cleaning/.venv/lib/python3.10/site-packages/text_dedup/utils/timer.py#65\u001b\\\u001b[2m65\u001b[0m\u001b]8;;\u001b\\\n",
      "\u001b[2;36m                    \u001b[0m         \u001b[1;36m639.\u001b[0m17s                                 \u001b[2m           \u001b[0m\n",
      "\u001b[2;36m                   \u001b[0m\u001b[2;36m \u001b[0m\u001b[34mINFO    \u001b[0m Before                          :    \u001b]8;id=637887;file:///disks/local/c.4t_4/oscar/zhtw-dataset-cleaning/.venv/lib/python3.10/site-packages/text_dedup/minhash.py\u001b\\\u001b[2mminhash.py\u001b[0m\u001b]8;;\u001b\\\u001b[2m:\u001b[0m\u001b]8;id=650413;file:///disks/local/c.4t_4/oscar/zhtw-dataset-cleaning/.venv/lib/python3.10/site-packages/text_dedup/minhash.py#308\u001b\\\u001b[2m308\u001b[0m\u001b]8;;\u001b\\\n",
      "\u001b[2;36m                    \u001b[0m         \u001b[1;36m2967556\u001b[0m                              \u001b[2m              \u001b[0m\n",
      "\u001b[2;36m                   \u001b[0m\u001b[2;36m \u001b[0m\u001b[34mINFO    \u001b[0m After                           :    \u001b]8;id=827367;file:///disks/local/c.4t_4/oscar/zhtw-dataset-cleaning/.venv/lib/python3.10/site-packages/text_dedup/minhash.py\u001b\\\u001b[2mminhash.py\u001b[0m\u001b]8;;\u001b\\\u001b[2m:\u001b[0m\u001b]8;id=140177;file:///disks/local/c.4t_4/oscar/zhtw-dataset-cleaning/.venv/lib/python3.10/site-packages/text_dedup/minhash.py#309\u001b\\\u001b[2m309\u001b[0m\u001b]8;;\u001b\\\n",
      "\u001b[2;36m                    \u001b[0m         \u001b[1;36m2712675\u001b[0m                              \u001b[2m              \u001b[0m\n"
     ]
    }
   ],
   "source": [
    "!python -m text_dedup.minhash \\\n",
    "    --path \"jed351/Traditional-Chinese-Common-Crawl-Filtered\" \\\n",
    "    --split train \\\n",
    "    --output cc-zhtw_dedup \\\n",
    "    --column text"
   ]
  },
  {
   "cell_type": "code",
   "execution_count": 2,
   "metadata": {},
   "outputs": [
    {
     "name": "stdout",
     "output_type": "stream",
     "text": [
      "Resolving data files: 100%|█████████████████████| 44/44 [00:01<00:00, 33.05it/s]\n",
      "Loading dataset shards: 100%|██████████████████| 44/44 [00:00<00:00, 134.48it/s]\n",
      "Map (num_proc=40): 100%|████| 2533212/2533212 [00:27<00:00, 91463.14 examples/s]\n",
      "Filter (num_proc=40): 100%|█| 2533212/2533212 [00:16<00:00, 151894.89 examples/s\n",
      "Fingerprinting... (num_proc=40): 100%|█| 2528267/2528267 [05:11<00:00, 8103.73 e\n",
      "Iterating MinHashes...: 100%|█████████████████| 253/253 [02:30<00:00,  1.68it/s]\n",
      "\u001b[2;36m[05/06/24 22:14:28]\u001b[0m\u001b[2;36m \u001b[0m\u001b[34mINFO    \u001b[0m Number of clusters: \u001b[1;36m25\u001b[0m               \u001b]8;id=427936;file:///disks/local/c.4t_4/oscar/zhtw-dataset-cleaning/.venv/lib/python3.10/site-packages/text_dedup/minhash.py\u001b\\\u001b[2mminhash.py\u001b[0m\u001b]8;;\u001b\\\u001b[2m:\u001b[0m\u001b]8;id=468531;file:///disks/local/c.4t_4/oscar/zhtw-dataset-cleaning/.venv/lib/python3.10/site-packages/text_dedup/minhash.py#265\u001b\\\u001b[2m265\u001b[0m\u001b]8;;\u001b\\\n",
      "Clustering...: 100%|████████████████████████████| 25/25 [01:09<00:00,  2.78s/it]\n",
      "\u001b[2;36m[05/06/24 22:15:48]\u001b[0m\u001b[2;36m \u001b[0m\u001b[34mINFO    \u001b[0m Number of edges: \u001b[1;36m1788589\u001b[0m             \u001b]8;id=657507;file:///disks/local/c.4t_4/oscar/zhtw-dataset-cleaning/.venv/lib/python3.10/site-packages/text_dedup/minhash.py\u001b\\\u001b[2mminhash.py\u001b[0m\u001b]8;;\u001b\\\u001b[2m:\u001b[0m\u001b]8;id=223653;file:///disks/local/c.4t_4/oscar/zhtw-dataset-cleaning/.venv/lib/python3.10/site-packages/text_dedup/minhash.py#275\u001b\\\u001b[2m275\u001b[0m\u001b]8;;\u001b\\\n",
      "Finding clusters... (num_proc=40): 100%|█| 2528267/2528267 [00:23<00:00, 106529.\n",
      "Filtering clusters... (num_proc=40): 100%|█| 2528267/2528267 [00:07<00:00, 31936\n",
      "Saving the dataset (24/24 shards): 100%|█| 1331356/1331356 [00:34<00:00, 38460.7\n",
      "\u001b[2;36m[05/06/24 22:17:13]\u001b[0m\u001b[2;36m \u001b[0m\u001b[34mINFO    \u001b[0m Loading                         :       \u001b]8;id=329882;file:///disks/local/c.4t_4/oscar/zhtw-dataset-cleaning/.venv/lib/python3.10/site-packages/text_dedup/utils/timer.py\u001b\\\u001b[2mtimer.py\u001b[0m\u001b]8;;\u001b\\\u001b[2m:\u001b[0m\u001b]8;id=89110;file:///disks/local/c.4t_4/oscar/zhtw-dataset-cleaning/.venv/lib/python3.10/site-packages/text_dedup/utils/timer.py#65\u001b\\\u001b[2m65\u001b[0m\u001b]8;;\u001b\\\n",
      "\u001b[2;36m                    \u001b[0m         \u001b[1;36m53.\u001b[0m35s                                  \u001b[2m           \u001b[0m\n",
      "\u001b[2;36m                   \u001b[0m\u001b[2;36m \u001b[0m\u001b[34mINFO    \u001b[0m MinHashing                      :       \u001b]8;id=850458;file:///disks/local/c.4t_4/oscar/zhtw-dataset-cleaning/.venv/lib/python3.10/site-packages/text_dedup/utils/timer.py\u001b\\\u001b[2mtimer.py\u001b[0m\u001b]8;;\u001b\\\u001b[2m:\u001b[0m\u001b]8;id=788635;file:///disks/local/c.4t_4/oscar/zhtw-dataset-cleaning/.venv/lib/python3.10/site-packages/text_dedup/utils/timer.py#65\u001b\\\u001b[2m65\u001b[0m\u001b]8;;\u001b\\\n",
      "\u001b[2;36m                    \u001b[0m         \u001b[1;36m313.\u001b[0m08s                                 \u001b[2m           \u001b[0m\n",
      "\u001b[2;36m                   \u001b[0m\u001b[2;36m \u001b[0m\u001b[34mINFO    \u001b[0m Clustering                      :       \u001b]8;id=286992;file:///disks/local/c.4t_4/oscar/zhtw-dataset-cleaning/.venv/lib/python3.10/site-packages/text_dedup/utils/timer.py\u001b\\\u001b[2mtimer.py\u001b[0m\u001b]8;;\u001b\\\u001b[2m:\u001b[0m\u001b]8;id=253103;file:///disks/local/c.4t_4/oscar/zhtw-dataset-cleaning/.venv/lib/python3.10/site-packages/text_dedup/utils/timer.py#65\u001b\\\u001b[2m65\u001b[0m\u001b]8;;\u001b\\\n",
      "\u001b[2;36m                    \u001b[0m         \u001b[1;36m231.\u001b[0m14s                                 \u001b[2m           \u001b[0m\n",
      "\u001b[2;36m                   \u001b[0m\u001b[2;36m \u001b[0m\u001b[34mINFO    \u001b[0m Filtering                       :       \u001b]8;id=967239;file:///disks/local/c.4t_4/oscar/zhtw-dataset-cleaning/.venv/lib/python3.10/site-packages/text_dedup/utils/timer.py\u001b\\\u001b[2mtimer.py\u001b[0m\u001b]8;;\u001b\\\u001b[2m:\u001b[0m\u001b]8;id=727639;file:///disks/local/c.4t_4/oscar/zhtw-dataset-cleaning/.venv/lib/python3.10/site-packages/text_dedup/utils/timer.py#65\u001b\\\u001b[2m65\u001b[0m\u001b]8;;\u001b\\\n",
      "\u001b[2;36m                    \u001b[0m         \u001b[1;36m48.\u001b[0m37s                                  \u001b[2m           \u001b[0m\n",
      "\u001b[2;36m                   \u001b[0m\u001b[2;36m \u001b[0m\u001b[34mINFO    \u001b[0m Saving                          :       \u001b]8;id=688873;file:///disks/local/c.4t_4/oscar/zhtw-dataset-cleaning/.venv/lib/python3.10/site-packages/text_dedup/utils/timer.py\u001b\\\u001b[2mtimer.py\u001b[0m\u001b]8;;\u001b\\\u001b[2m:\u001b[0m\u001b]8;id=122708;file:///disks/local/c.4t_4/oscar/zhtw-dataset-cleaning/.venv/lib/python3.10/site-packages/text_dedup/utils/timer.py#65\u001b\\\u001b[2m65\u001b[0m\u001b]8;;\u001b\\\n",
      "\u001b[2;36m                    \u001b[0m         \u001b[1;36m34.\u001b[0m81s                                  \u001b[2m           \u001b[0m\n",
      "\u001b[2;36m                   \u001b[0m\u001b[2;36m \u001b[0m\u001b[34mINFO    \u001b[0m Cleaning                        : \u001b[1;36m1.\u001b[0m46s \u001b]8;id=584254;file:///disks/local/c.4t_4/oscar/zhtw-dataset-cleaning/.venv/lib/python3.10/site-packages/text_dedup/utils/timer.py\u001b\\\u001b[2mtimer.py\u001b[0m\u001b]8;;\u001b\\\u001b[2m:\u001b[0m\u001b]8;id=779255;file:///disks/local/c.4t_4/oscar/zhtw-dataset-cleaning/.venv/lib/python3.10/site-packages/text_dedup/utils/timer.py#65\u001b\\\u001b[2m65\u001b[0m\u001b]8;;\u001b\\\n",
      "\u001b[2;36m                   \u001b[0m\u001b[2;36m \u001b[0m\u001b[34mINFO    \u001b[0m Total                           :       \u001b]8;id=370593;file:///disks/local/c.4t_4/oscar/zhtw-dataset-cleaning/.venv/lib/python3.10/site-packages/text_dedup/utils/timer.py\u001b\\\u001b[2mtimer.py\u001b[0m\u001b]8;;\u001b\\\u001b[2m:\u001b[0m\u001b]8;id=554843;file:///disks/local/c.4t_4/oscar/zhtw-dataset-cleaning/.venv/lib/python3.10/site-packages/text_dedup/utils/timer.py#65\u001b\\\u001b[2m65\u001b[0m\u001b]8;;\u001b\\\n",
      "\u001b[2;36m                    \u001b[0m         \u001b[1;36m682.\u001b[0m21s                                 \u001b[2m           \u001b[0m\n",
      "\u001b[2;36m                   \u001b[0m\u001b[2;36m \u001b[0m\u001b[34mINFO    \u001b[0m Before                          :    \u001b]8;id=318275;file:///disks/local/c.4t_4/oscar/zhtw-dataset-cleaning/.venv/lib/python3.10/site-packages/text_dedup/minhash.py\u001b\\\u001b[2mminhash.py\u001b[0m\u001b]8;;\u001b\\\u001b[2m:\u001b[0m\u001b]8;id=857541;file:///disks/local/c.4t_4/oscar/zhtw-dataset-cleaning/.venv/lib/python3.10/site-packages/text_dedup/minhash.py#308\u001b\\\u001b[2m308\u001b[0m\u001b]8;;\u001b\\\n",
      "\u001b[2;36m                    \u001b[0m         \u001b[1;36m2528267\u001b[0m                              \u001b[2m              \u001b[0m\n",
      "\u001b[2;36m                   \u001b[0m\u001b[2;36m \u001b[0m\u001b[34mINFO    \u001b[0m After                           :    \u001b]8;id=778970;file:///disks/local/c.4t_4/oscar/zhtw-dataset-cleaning/.venv/lib/python3.10/site-packages/text_dedup/minhash.py\u001b\\\u001b[2mminhash.py\u001b[0m\u001b]8;;\u001b\\\u001b[2m:\u001b[0m\u001b]8;id=938715;file:///disks/local/c.4t_4/oscar/zhtw-dataset-cleaning/.venv/lib/python3.10/site-packages/text_dedup/minhash.py#309\u001b\\\u001b[2m309\u001b[0m\u001b]8;;\u001b\\\n",
      "\u001b[2;36m                    \u001b[0m         \u001b[1;36m1331356\u001b[0m                              \u001b[2m              \u001b[0m\n"
     ]
    }
   ],
   "source": [
    "!python -m text_dedup.minhash \\\n",
    "    --path zetavg/zh-tw-wikipedia \\\n",
    "    --split train \\\n",
    "    --output wiki-zh-tw_dedup \\\n",
    "    --column markdown"
   ]
  }
 ],
 "metadata": {
  "kernelspec": {
   "display_name": ".venv",
   "language": "python",
   "name": "python3"
  },
  "language_info": {
   "codemirror_mode": {
    "name": "ipython",
    "version": 3
   },
   "file_extension": ".py",
   "mimetype": "text/x-python",
   "name": "python",
   "nbconvert_exporter": "python",
   "pygments_lexer": "ipython3",
   "version": "3.10.12"
  }
 },
 "nbformat": 4,
 "nbformat_minor": 2
}
