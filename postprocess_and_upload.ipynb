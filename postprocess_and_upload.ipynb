{
 "cells": [
  {
   "cell_type": "code",
   "execution_count": 5,
   "metadata": {},
   "outputs": [],
   "source": [
    "from datasets import load_dataset, load_from_disk, concatenate_datasets"
   ]
  },
  {
   "cell_type": "markdown",
   "metadata": {},
   "source": [
    "# news-collection-zhtw"
   ]
  },
  {
   "cell_type": "code",
   "execution_count": 6,
   "metadata": {},
   "outputs": [
    {
     "name": "stderr",
     "output_type": "stream",
     "text": [
      "Saving the dataset (5/5 shards): 100%|██████████| 559534/559534 [00:02<00:00, 240999.81 examples/s]\n"
     ]
    }
   ],
   "source": [
    "human_dst = load_from_disk(\"./human-zhtw-dedup\")\n",
    "human_dst = human_dst.add_column(\"category\", [\"article\"] * len(human_dst))\n",
    "\n",
    "tech_dst = load_from_disk(\"./technews-zhtw-dedup\")\n",
    "tech_dst = tech_dst.add_column(\"category\", [\"tech\"] * len(tech_dst))\n",
    "\n",
    "science_dst = load_from_disk(\"./science-zhtw-dedup\")\n",
    "science_dst = science_dst.add_column(\"category\", [\"science\"] * len(science_dst))\n",
    "\n",
    "news_dst = load_from_disk(\"./news-zhtw-dedup\")\n",
    "news_dst = news_dst.add_column(\"category\", [\"daily-weekly\"] * len(news_dst))\n",
    "\n",
    "dst = concatenate_datasets([human_dst, tech_dst, science_dst, news_dst])\n",
    "dst = dst.rename_column(\"article\", \"text\")\n",
    "dst.save_to_disk(\"mixed_news_tmp\")"
   ]
  },
  {
   "cell_type": "code",
   "execution_count": 8,
   "metadata": {},
   "outputs": [
    {
     "name": "stdout",
     "output_type": "stream",
     "text": [
      "Map (num_proc=40): 100%|█████| 559534/559534 [00:02<00:00, 209522.67 examples/s]\n",
      "Filter (num_proc=40): 100%|██| 559534/559534 [00:04<00:00, 134875.89 examples/s]\n",
      "Fingerprinting... (num_proc=40): 100%|█| 559534/559534 [01:30<00:00, 6182.10 exa\n",
      "Iterating MinHashes...: 100%|███████████████████| 56/56 [00:42<00:00,  1.33it/s]\n",
      "\u001b[2;36m[05/06/24 22:45:08]\u001b[0m\u001b[2;36m \u001b[0m\u001b[34mINFO    \u001b[0m Number of clusters: \u001b[1;36m25\u001b[0m               \u001b]8;id=61618;file:///disks/local/c.4t_4/oscar/zhtw-dataset-cleaning/text-dedup/text_dedup/minhash.py\u001b\\\u001b[2mminhash.py\u001b[0m\u001b]8;;\u001b\\\u001b[2m:\u001b[0m\u001b]8;id=686175;file:///disks/local/c.4t_4/oscar/zhtw-dataset-cleaning/text-dedup/text_dedup/minhash.py#265\u001b\\\u001b[2m265\u001b[0m\u001b]8;;\u001b\\\n",
      "Clustering...: 100%|████████████████████████████| 25/25 [00:02<00:00, 10.09it/s]\n",
      "\u001b[2;36m[05/06/24 22:45:11]\u001b[0m\u001b[2;36m \u001b[0m\u001b[34mINFO    \u001b[0m Number of edges: \u001b[1;36m3546\u001b[0m                \u001b]8;id=552195;file:///disks/local/c.4t_4/oscar/zhtw-dataset-cleaning/text-dedup/text_dedup/minhash.py\u001b\\\u001b[2mminhash.py\u001b[0m\u001b]8;;\u001b\\\u001b[2m:\u001b[0m\u001b]8;id=371381;file:///disks/local/c.4t_4/oscar/zhtw-dataset-cleaning/text-dedup/text_dedup/minhash.py#275\u001b\\\u001b[2m275\u001b[0m\u001b]8;;\u001b\\\n",
      "Finding clusters... (num_proc=40): 100%|█| 559534/559534 [00:03<00:00, 147699.73\n",
      "Filtering clusters... (num_proc=40): 100%|█| 559534/559534 [00:00<00:00, 572686.\n",
      "Saving the dataset (5/5 shards): 100%|█| 557764/557764 [00:05<00:00, 100199.11 e\n",
      "\u001b[2;36m[05/06/24 22:45:27]\u001b[0m\u001b[2;36m \u001b[0m\u001b[34mINFO    \u001b[0m Loading                         : \u001b[1;36m7.\u001b[0m41s \u001b]8;id=98146;file:///disks/local/c.4t_4/oscar/zhtw-dataset-cleaning/text-dedup/text_dedup/utils/timer.py\u001b\\\u001b[2mtimer.py\u001b[0m\u001b]8;;\u001b\\\u001b[2m:\u001b[0m\u001b]8;id=50018;file:///disks/local/c.4t_4/oscar/zhtw-dataset-cleaning/text-dedup/text_dedup/utils/timer.py#65\u001b\\\u001b[2m65\u001b[0m\u001b]8;;\u001b\\\n",
      "\u001b[2;36m                   \u001b[0m\u001b[2;36m \u001b[0m\u001b[34mINFO    \u001b[0m MinHashing                      :       \u001b]8;id=267176;file:///disks/local/c.4t_4/oscar/zhtw-dataset-cleaning/text-dedup/text_dedup/utils/timer.py\u001b\\\u001b[2mtimer.py\u001b[0m\u001b]8;;\u001b\\\u001b[2m:\u001b[0m\u001b]8;id=531139;file:///disks/local/c.4t_4/oscar/zhtw-dataset-cleaning/text-dedup/text_dedup/utils/timer.py#65\u001b\\\u001b[2m65\u001b[0m\u001b]8;;\u001b\\\n",
      "\u001b[2;36m                    \u001b[0m         \u001b[1;36m90.\u001b[0m96s                                  \u001b[2m           \u001b[0m\n",
      "\u001b[2;36m                   \u001b[0m\u001b[2;36m \u001b[0m\u001b[34mINFO    \u001b[0m Clustering                      :       \u001b]8;id=827366;file:///disks/local/c.4t_4/oscar/zhtw-dataset-cleaning/text-dedup/text_dedup/utils/timer.py\u001b\\\u001b[2mtimer.py\u001b[0m\u001b]8;;\u001b\\\u001b[2m:\u001b[0m\u001b]8;id=991922;file:///disks/local/c.4t_4/oscar/zhtw-dataset-cleaning/text-dedup/text_dedup/utils/timer.py#65\u001b\\\u001b[2m65\u001b[0m\u001b]8;;\u001b\\\n",
      "\u001b[2;36m                    \u001b[0m         \u001b[1;36m44.\u001b[0m59s                                  \u001b[2m           \u001b[0m\n",
      "\u001b[2;36m                   \u001b[0m\u001b[2;36m \u001b[0m\u001b[34mINFO    \u001b[0m Filtering                       :       \u001b]8;id=551077;file:///disks/local/c.4t_4/oscar/zhtw-dataset-cleaning/text-dedup/text_dedup/utils/timer.py\u001b\\\u001b[2mtimer.py\u001b[0m\u001b]8;;\u001b\\\u001b[2m:\u001b[0m\u001b]8;id=938493;file:///disks/local/c.4t_4/oscar/zhtw-dataset-cleaning/text-dedup/text_dedup/utils/timer.py#65\u001b\\\u001b[2m65\u001b[0m\u001b]8;;\u001b\\\n",
      "\u001b[2;36m                    \u001b[0m         \u001b[1;36m10.\u001b[0m34s                                  \u001b[2m           \u001b[0m\n",
      "\u001b[2;36m                   \u001b[0m\u001b[2;36m \u001b[0m\u001b[34mINFO    \u001b[0m Saving                          : \u001b[1;36m5.\u001b[0m60s \u001b]8;id=632773;file:///disks/local/c.4t_4/oscar/zhtw-dataset-cleaning/text-dedup/text_dedup/utils/timer.py\u001b\\\u001b[2mtimer.py\u001b[0m\u001b]8;;\u001b\\\u001b[2m:\u001b[0m\u001b]8;id=253568;file:///disks/local/c.4t_4/oscar/zhtw-dataset-cleaning/text-dedup/text_dedup/utils/timer.py#65\u001b\\\u001b[2m65\u001b[0m\u001b]8;;\u001b\\\n",
      "\u001b[2;36m                   \u001b[0m\u001b[2;36m \u001b[0m\u001b[34mINFO    \u001b[0m Cleaning                        : \u001b[1;36m0.\u001b[0m30s \u001b]8;id=810881;file:///disks/local/c.4t_4/oscar/zhtw-dataset-cleaning/text-dedup/text_dedup/utils/timer.py\u001b\\\u001b[2mtimer.py\u001b[0m\u001b]8;;\u001b\\\u001b[2m:\u001b[0m\u001b]8;id=822703;file:///disks/local/c.4t_4/oscar/zhtw-dataset-cleaning/text-dedup/text_dedup/utils/timer.py#65\u001b\\\u001b[2m65\u001b[0m\u001b]8;;\u001b\\\n",
      "\u001b[2;36m                   \u001b[0m\u001b[2;36m \u001b[0m\u001b[34mINFO    \u001b[0m Total                           :       \u001b]8;id=652632;file:///disks/local/c.4t_4/oscar/zhtw-dataset-cleaning/text-dedup/text_dedup/utils/timer.py\u001b\\\u001b[2mtimer.py\u001b[0m\u001b]8;;\u001b\\\u001b[2m:\u001b[0m\u001b]8;id=53626;file:///disks/local/c.4t_4/oscar/zhtw-dataset-cleaning/text-dedup/text_dedup/utils/timer.py#65\u001b\\\u001b[2m65\u001b[0m\u001b]8;;\u001b\\\n",
      "\u001b[2;36m                    \u001b[0m         \u001b[1;36m159.\u001b[0m20s                                 \u001b[2m           \u001b[0m\n",
      "\u001b[2;36m                   \u001b[0m\u001b[2;36m \u001b[0m\u001b[34mINFO    \u001b[0m Before                          :    \u001b]8;id=519357;file:///disks/local/c.4t_4/oscar/zhtw-dataset-cleaning/text-dedup/text_dedup/minhash.py\u001b\\\u001b[2mminhash.py\u001b[0m\u001b]8;;\u001b\\\u001b[2m:\u001b[0m\u001b]8;id=126615;file:///disks/local/c.4t_4/oscar/zhtw-dataset-cleaning/text-dedup/text_dedup/minhash.py#308\u001b\\\u001b[2m308\u001b[0m\u001b]8;;\u001b\\\n",
      "\u001b[2;36m                    \u001b[0m         \u001b[1;36m559534\u001b[0m                               \u001b[2m              \u001b[0m\n",
      "\u001b[2;36m                   \u001b[0m\u001b[2;36m \u001b[0m\u001b[34mINFO    \u001b[0m After                           :    \u001b]8;id=950296;file:///disks/local/c.4t_4/oscar/zhtw-dataset-cleaning/text-dedup/text_dedup/minhash.py\u001b\\\u001b[2mminhash.py\u001b[0m\u001b]8;;\u001b\\\u001b[2m:\u001b[0m\u001b]8;id=154416;file:///disks/local/c.4t_4/oscar/zhtw-dataset-cleaning/text-dedup/text_dedup/minhash.py#309\u001b\\\u001b[2m309\u001b[0m\u001b]8;;\u001b\\\n",
      "\u001b[2;36m                    \u001b[0m         \u001b[1;36m557764\u001b[0m                               \u001b[2m              \u001b[0m\n"
     ]
    }
   ],
   "source": [
    "!python -m text_dedup.minhash \\\n",
    "    --path mixed_news_tmp \\\n",
    "    --local \\\n",
    "    --output mixednews-zhtw-dedup \\\n",
    "    --column text"
   ]
  },
  {
   "cell_type": "code",
   "execution_count": 9,
   "metadata": {},
   "outputs": [
    {
     "name": "stderr",
     "output_type": "stream",
     "text": [
      "Creating parquet from Arrow format: 100%|██████████| 112/112 [00:03<00:00, 36.49ba/s]\n",
      "Creating parquet from Arrow format: 100%|██████████| 112/112 [00:02<00:00, 47.35ba/s]\n",
      "Creating parquet from Arrow format: 100%|██████████| 112/112 [00:01<00:00, 74.27ba/s]\n",
      "Creating parquet from Arrow format: 100%|██████████| 112/112 [00:02<00:00, 52.25ba/s]\n",
      "Creating parquet from Arrow format: 100%|██████████| 112/112 [00:04<00:00, 24.05ba/s]\n",
      "Uploading the dataset shards: 100%|██████████| 5/5 [01:52<00:00, 22.53s/it]\n"
     ]
    },
    {
     "data": {
      "text/plain": [
       "CommitInfo(commit_url='https://huggingface.co/datasets/liswei/news-collection-zhtw/commit/53eb1b68e08429432c69f5c620e51265459e4305', commit_message='Upload dataset', commit_description='', oid='53eb1b68e08429432c69f5c620e51265459e4305', pr_url=None, pr_revision=None, pr_num=None)"
      ]
     },
     "execution_count": 9,
     "metadata": {},
     "output_type": "execute_result"
    }
   ],
   "source": [
    "dst = load_from_disk(\"mixednews-zhtw-dedup\")\n",
    "dst.push_to_hub(\"news-collection-zhtw\")"
   ]
  },
  {
   "cell_type": "code",
   "execution_count": 10,
   "metadata": {},
   "outputs": [
    {
     "name": "stderr",
     "output_type": "stream",
     "text": [
      "Creating parquet from Arrow format: 100%|██████████| 286/286 [00:03<00:00, 83.87ba/s]\n",
      "Creating parquet from Arrow format: 100%|██████████| 286/286 [00:03<00:00, 83.82ba/s]\n",
      "Creating parquet from Arrow format: 100%|██████████| 286/286 [00:04<00:00, 66.91ba/s]\n",
      "Creating parquet from Arrow format: 100%|██████████| 286/286 [00:03<00:00, 83.12ba/s]\n",
      "Creating parquet from Arrow format: 100%|██████████| 286/286 [00:04<00:00, 67.67ba/s]\n",
      "Creating parquet from Arrow format: 100%|██████████| 286/286 [00:03<00:00, 85.76ba/s]\n",
      "Creating parquet from Arrow format: 100%|██████████| 286/286 [00:03<00:00, 83.91ba/s]\n",
      "Creating parquet from Arrow format: 100%|██████████| 286/286 [00:03<00:00, 85.11ba/s]\n",
      "Creating parquet from Arrow format: 100%|██████████| 286/286 [00:04<00:00, 66.48ba/s]\n",
      "Creating parquet from Arrow format: 100%|██████████| 286/286 [00:03<00:00, 85.80ba/s]\n",
      "Creating parquet from Arrow format: 100%|██████████| 286/286 [00:03<00:00, 82.54ba/s]\n",
      "Creating parquet from Arrow format: 100%|██████████| 286/286 [00:04<00:00, 71.16ba/s]\n",
      "Creating parquet from Arrow format: 100%|██████████| 286/286 [00:03<00:00, 83.86ba/s]\n",
      "Creating parquet from Arrow format: 100%|██████████| 286/286 [00:03<00:00, 88.12ba/s]\n",
      "Creating parquet from Arrow format: 100%|██████████| 286/286 [00:04<00:00, 68.19ba/s]\n",
      "Creating parquet from Arrow format: 100%|██████████| 286/286 [00:03<00:00, 82.92ba/s]\n",
      "Creating parquet from Arrow format: 100%|██████████| 286/286 [00:03<00:00, 81.98ba/s]\n",
      "Uploading the dataset shards: 100%|██████████| 17/17 [05:44<00:00, 20.28s/it]\n"
     ]
    },
    {
     "data": {
      "text/plain": [
       "CommitInfo(commit_url='https://huggingface.co/datasets/liswei/c4-zhtw/commit/864aca0154ad13cf312e758e6bc904acad83cf54', commit_message='Upload dataset', commit_description='', oid='864aca0154ad13cf312e758e6bc904acad83cf54', pr_url=None, pr_revision=None, pr_num=None)"
      ]
     },
     "execution_count": 10,
     "metadata": {},
     "output_type": "execute_result"
    }
   ],
   "source": [
    "dst = load_from_disk(\"./c4-zhtw-dedup\")\n",
    "dst.push_to_hub(\"c4-zhtw\")"
   ]
  },
  {
   "cell_type": "code",
   "execution_count": 12,
   "metadata": {},
   "outputs": [
    {
     "name": "stderr",
     "output_type": "stream",
     "text": [
      "Creating parquet from Arrow format: 100%|██████████| 217/217 [00:00<00:00, 300.28ba/s]\n",
      "Uploading the dataset shards: 100%|██████████| 1/1 [00:12<00:00, 12.81s/it]\n"
     ]
    },
    {
     "data": {
      "text/plain": [
       "CommitInfo(commit_url='https://huggingface.co/datasets/liswei/coct-en-zhtw-dedup/commit/e8a3650521fe2b9257e45312208dc0e5d4690965', commit_message='Upload dataset', commit_description='', oid='e8a3650521fe2b9257e45312208dc0e5d4690965', pr_url=None, pr_revision=None, pr_num=None)"
      ]
     },
     "execution_count": 12,
     "metadata": {},
     "output_type": "execute_result"
    }
   ],
   "source": [
    "dst = load_from_disk(\"./coct-zhtw-en-dedup\")\n",
    "dst.push_to_hub(\"coct-en-zhtw-dedup\")"
   ]
  },
  {
   "cell_type": "code",
   "execution_count": 13,
   "metadata": {},
   "outputs": [
    {
     "name": "stderr",
     "output_type": "stream",
     "text": [
      "Creating parquet from Arrow format: 100%|██████████| 118/118 [00:03<00:00, 32.09ba/s]\n",
      "Creating parquet from Arrow format: 100%|██████████| 118/118 [00:03<00:00, 31.57ba/s]\n",
      "Creating parquet from Arrow format: 100%|██████████| 118/118 [00:03<00:00, 32.09ba/s]\n",
      "Creating parquet from Arrow format: 100%|██████████| 118/118 [00:04<00:00, 24.57ba/s]\n",
      "Creating parquet from Arrow format: 100%|██████████| 118/118 [00:03<00:00, 30.16ba/s]\n",
      "Creating parquet from Arrow format: 100%|██████████| 118/118 [00:03<00:00, 29.50ba/s]\n",
      "Creating parquet from Arrow format: 100%|██████████| 118/118 [00:03<00:00, 30.64ba/s]\n",
      "Creating parquet from Arrow format: 100%|██████████| 118/118 [00:04<00:00, 23.69ba/s]\n",
      "Creating parquet from Arrow format: 100%|██████████| 118/118 [00:03<00:00, 34.13ba/s]\n",
      "Creating parquet from Arrow format: 100%|██████████| 118/118 [00:03<00:00, 34.48ba/s]\n",
      "Creating parquet from Arrow format: 100%|██████████| 118/118 [00:03<00:00, 34.60ba/s]\n",
      "Creating parquet from Arrow format: 100%|██████████| 118/118 [00:03<00:00, 38.60ba/s]\n",
      "Creating parquet from Arrow format: 100%|██████████| 118/118 [00:02<00:00, 40.17ba/s]\n",
      "Creating parquet from Arrow format: 100%|██████████| 118/118 [00:02<00:00, 39.62ba/s]\n",
      "Creating parquet from Arrow format: 100%|██████████| 118/118 [00:02<00:00, 40.03ba/s]\n",
      "Creating parquet from Arrow format: 100%|██████████| 118/118 [00:02<00:00, 40.37ba/s]\n",
      "Creating parquet from Arrow format: 100%|██████████| 118/118 [00:02<00:00, 40.67ba/s]\n",
      "Creating parquet from Arrow format: 100%|██████████| 118/118 [00:02<00:00, 41.35ba/s]\n",
      "Creating parquet from Arrow format: 100%|██████████| 118/118 [00:02<00:00, 39.48ba/s]\n",
      "Creating parquet from Arrow format: 100%|██████████| 118/118 [00:02<00:00, 40.67ba/s]\n",
      "Creating parquet from Arrow format: 100%|██████████| 118/118 [00:02<00:00, 39.43ba/s]\n",
      "Creating parquet from Arrow format: 100%|██████████| 118/118 [00:02<00:00, 40.05ba/s]\n",
      "Creating parquet from Arrow format: 100%|██████████| 118/118 [00:02<00:00, 40.96ba/s]\n",
      "Uploading the dataset shards: 100%|██████████| 23/23 [06:57<00:00, 18.14s/it]\n"
     ]
    },
    {
     "data": {
      "text/plain": [
       "CommitInfo(commit_url='https://huggingface.co/datasets/liswei/common-crawl-zhtw/commit/2edd96267c8a6cb0e0f3eec3351eebc01661d0d3', commit_message='Upload dataset', commit_description='', oid='2edd96267c8a6cb0e0f3eec3351eebc01661d0d3', pr_url=None, pr_revision=None, pr_num=None)"
      ]
     },
     "execution_count": 13,
     "metadata": {},
     "output_type": "execute_result"
    }
   ],
   "source": [
    "dst = load_from_disk(\"./cc-zhtw-dedup\")\n",
    "dst.push_to_hub(\"common-crawl-zhtw\")"
   ]
  },
  {
   "cell_type": "code",
   "execution_count": 14,
   "metadata": {},
   "outputs": [
    {
     "name": "stderr",
     "output_type": "stream",
     "text": [
      "Creating parquet from Arrow format: 100%|██████████| 89/89 [00:03<00:00, 25.57ba/s]\n",
      "Creating parquet from Arrow format: 100%|██████████| 89/89 [00:03<00:00, 25.29ba/s]\n",
      "Creating parquet from Arrow format: 100%|██████████| 89/89 [00:03<00:00, 29.02ba/s]\n",
      "Creating parquet from Arrow format: 100%|██████████| 89/89 [00:03<00:00, 22.99ba/s]\n",
      "Creating parquet from Arrow format: 100%|██████████| 89/89 [00:02<00:00, 29.96ba/s]\n",
      "Creating parquet from Arrow format: 100%|██████████| 89/89 [00:02<00:00, 32.12ba/s]\n",
      "Creating parquet from Arrow format: 100%|██████████| 89/89 [00:03<00:00, 23.44ba/s]\n",
      "Creating parquet from Arrow format: 100%|██████████| 89/89 [00:02<00:00, 36.83ba/s]\n",
      "Creating parquet from Arrow format: 100%|██████████| 89/89 [00:02<00:00, 31.31ba/s]\n",
      "Creating parquet from Arrow format: 100%|██████████| 89/89 [00:02<00:00, 31.76ba/s]\n",
      "Creating parquet from Arrow format: 100%|██████████| 89/89 [00:03<00:00, 26.95ba/s]\n",
      "Creating parquet from Arrow format: 100%|██████████| 89/89 [00:04<00:00, 21.98ba/s]\n",
      "Creating parquet from Arrow format: 100%|██████████| 89/89 [00:03<00:00, 26.57ba/s]\n",
      "Creating parquet from Arrow format: 100%|██████████| 89/89 [00:02<00:00, 30.14ba/s]\n",
      "Creating parquet from Arrow format: 100%|██████████| 89/89 [00:03<00:00, 26.18ba/s]\n",
      "Uploading the dataset shards: 100%|██████████| 15/15 [04:10<00:00, 16.69s/it]\n"
     ]
    },
    {
     "data": {
      "text/plain": [
       "CommitInfo(commit_url='https://huggingface.co/datasets/liswei/wikipedia-zhtw-dedup/commit/f6808345d62d771ac7109c470c44a6dce6df1984', commit_message='Upload dataset', commit_description='', oid='f6808345d62d771ac7109c470c44a6dce6df1984', pr_url=None, pr_revision=None, pr_num=None)"
      ]
     },
     "execution_count": 14,
     "metadata": {},
     "output_type": "execute_result"
    }
   ],
   "source": [
    "dst = load_from_disk(\"./wiki-zh-tw-dedup\")\n",
    "dst.push_to_hub(\"wikipedia-zhtw-dedup\")"
   ]
  }
 ],
 "metadata": {
  "kernelspec": {
   "display_name": ".venv",
   "language": "python",
   "name": "python3"
  },
  "language_info": {
   "codemirror_mode": {
    "name": "ipython",
    "version": 3
   },
   "file_extension": ".py",
   "mimetype": "text/x-python",
   "name": "python",
   "nbconvert_exporter": "python",
   "pygments_lexer": "ipython3",
   "version": "3.10.12"
  }
 },
 "nbformat": 4,
 "nbformat_minor": 2
}
