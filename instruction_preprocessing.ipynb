{
 "cells": [
  {
   "cell_type": "markdown",
   "metadata": {},
   "source": [
    "Forming en <-> zhtw alignment instruction-response dataset in Openai format.\n",
    "\n"
   ]
  },
  {
   "cell_type": "code",
   "execution_count": 5,
   "metadata": {},
   "outputs": [],
   "source": [
    "SYS_PROMPT_EN2TW = [\n",
    "    \"請用繁體中文回答以下問題\",\n",
    "    \"Please answer the following question in Traditional Chinese\",\n",
    "    \"用繁體中文解釋下述指令\",\n",
    "    \"Explain the following instructions in Traditional Chinese\",\n",
    "    \"以繁體中文提供以下訊息\",\n",
    "    \"Provide the following information in Traditional Chinese\",\n",
    "    \"用繁體中文進行回應\",\n",
    "    \"Respond in Traditional Chinese\",\n",
    "    \"用繁體中文回答，問題如下\",\n",
    "    \"Answer in Traditional Chinese, the question is as follows\",\n",
    "    \"以繁體中文完成此任務\",\n",
    "    \"Complete this task in Traditional Chinese\"\n",
    "]"
   ]
  },
  {
   "cell_type": "code",
   "execution_count": 6,
   "metadata": {},
   "outputs": [],
   "source": [
    "from datasets import load_dataset, load_from_disk\n",
    "import os\n",
    "import random\n",
    "import json\n",
    "random.seed(11944004)\n",
    "instruction_base_dir = \"./instruction_tuning\"\n",
    "os.makedirs(instruction_base_dir, exist_ok=True)"
   ]
  },
  {
   "cell_type": "code",
   "execution_count": 7,
   "metadata": {},
   "outputs": [
    {
     "name": "stderr",
     "output_type": "stream",
     "text": [
      "Generating train split: 52002 examples [00:00, 83660.69 examples/s] \n"
     ]
    }
   ],
   "source": [
    "# Alpaca GPT3.5-zhtw\n",
    "alpaca_tw2tw = load_dataset(\"json\", data_files=\"./alpaca_zhtw/alpaca-tw.json\")\n",
    "alpaca_en2tw = load_dataset(\"json\", data_files=\"./alpaca_zhtw/alpaca-tw_en_instruction.json\")"
   ]
  },
  {
   "cell_type": "code",
   "execution_count": 8,
   "metadata": {},
   "outputs": [],
   "source": [
    "SYS_DROP_OUT = 0.2\n",
    "output_file = os.path.join(instruction_base_dir, \"alpaca_zhtw_formatted.jsonl\")\n",
    "\n",
    "file = open(output_file, \"w\")\n",
    "\n",
    "for example in alpaca_tw2tw[\"train\"]:\n",
    "    conversation = []\n",
    "    # if random.random() >= SYS_DROP_OUT:\n",
    "    #     conversation.append({\"role\": \"system\", \"content\": random.choice(SYS_PROMPT_EN2TW)})\n",
    "\n",
    "    instruction = example[\"instruction\"]\n",
    "    if example['input'] != \"\":\n",
    "        if not example['input'].startswith(\"「\"):\n",
    "            example['input'] = f\"「{example['input']}」\"\n",
    "        instruction += f\"\\n{example['input']}\"\n",
    "    conversation.append({\"role\": \"user\", \"content\": instruction})\n",
    "    conversation.append({\"role\":\"assistant\", \"content\": example['output']})\n",
    "\n",
    "    example = {\n",
    "        \"id\": hash(example[\"instruction\"]),\n",
    "        \"conversations\": conversation\n",
    "    }\n",
    "    file.write(json.dumps(example, ensure_ascii=False) + \"\\n\")\n",
    "\n",
    "for example in alpaca_en2tw['train']:\n",
    "    conversation = []\n",
    "    if random.random() >= SYS_DROP_OUT:\n",
    "        conversation.append({\"role\": \"system\", \"content\": random.choice(SYS_PROMPT_EN2TW)})\n",
    "\n",
    "    instruction = example[\"instruction\"]\n",
    "    if example['input'] != \"\":\n",
    "        if not example['input'].startswith(\"「\"):\n",
    "            example['input'] = f\"「{example['input']}」\"\n",
    "        instruction += f\"\\n{example['input']}\"\n",
    "    conversation.append({\"role\": \"user\", \"content\": instruction})\n",
    "    conversation.append({\"role\": \"assistant\", \"content\": example['output']})\n",
    "\n",
    "    example = {\n",
    "        \"id\": hash(example[\"instruction\"]),\n",
    "        \"conversations\": conversation\n",
    "    }\n",
    "    file.write(json.dumps(example, ensure_ascii=False) + \"\\n\")\n",
    "\n",
    "file.close()"
   ]
  },
  {
   "cell_type": "markdown",
   "metadata": {},
   "source": [
    "成語"
   ]
  },
  {
   "cell_type": "code",
   "execution_count": 9,
   "metadata": {},
   "outputs": [],
   "source": [
    "import opencc\n",
    "converter = opencc.OpenCC('s2tw.json')\n",
    "\n",
    "dataset = load_dataset(\"KSmart/chinese_traditional_chengyu\", cache_dir=\".cache\", split='train')\n",
    "output_file = os.path.join(instruction_base_dir, \"idiom.jsonl\")\n",
    "file = open(output_file, \"w\")\n",
    "\n",
    "for example in dataset:\n",
    "    example['instruction'] = converter.convert(example['instruction'])\n",
    "    example['output'] = converter.convert(example['output'])\n",
    "    conversation = [\n",
    "        {\"role\": \"user\", \"content\": example['instruction']},\n",
    "        {\"role\": \"assistant\", \"content\": example['output']}\n",
    "    ]\n",
    "    example = {\n",
    "        \"id\": hash(example[\"instruction\"]),\n",
    "        \"conversations\": conversation\n",
    "    }\n",
    "    file.write(json.dumps(example, ensure_ascii=False) + \"\\n\")\n",
    "\n",
    "file.close()"
   ]
  },
  {
   "cell_type": "markdown",
   "metadata": {},
   "source": [
    "# COCT"
   ]
  },
  {
   "cell_type": "code",
   "execution_count": 10,
   "metadata": {},
   "outputs": [],
   "source": [
    "prompts = [\n",
    "    \"Please translate the following English paragraph into Traditional Chinese: \",\n",
    "    \"Translate this text into Traditional Chinese: \",\n",
    "    \"Convert the English below into Traditional Chinese: \",\n",
    "    \"Please provide a Traditional Chinese translation of the following text: \",\n",
    "    \"English to Traditional Chinese translation requested for the paragraph below: \",\n",
    "    \"Kindly render the English passage below into Traditional Chinese: \",\n",
    "    \"Turn the following English into Traditional Chinese: \",\n",
    "    \"English to Traditional Chinese: Please translate the text below: \",\n",
    "    \"Provide a Traditional Chinese version of the English paragraph below: \",\n",
    "    \"English text to be translated into Traditional Chinese follows: \"\n",
    "    \"請將以下英文段落翻譯成繁體中文：\",\n",
    "    \"將此文本翻譯成繁體中文：\",\n",
    "    \"把下面的英文翻譯成繁體中文：\",\n",
    "    \"請提供以下文本的繁體中文翻譯：\",\n",
    "    \"請將下列英文段落翻譯為繁體中文：\",\n",
    "    \"以下英文請翻成繁體中文：\",\n",
    "    \"翻譯下面的英文到繁體中文：\",\n",
    "    \"請把以下英文轉譯為繁體中文：\",\n",
    "    \"將下列英文譯為繁體中文：\",\n",
    "    \"英文到繁體中文：請翻譯下面的文本：\"\n",
    "]\n",
    "\n",
    "dataset = load_dataset(\"liswei/coct-en-zhtw-dedup\", cache_dir=\".cache\")\n",
    "\n",
    "file = open(os.path.join(instruction_base_dir, \"coct_en2tw.jsonl\"), \"w\")\n",
    "for example in dataset['train']:\n",
    "    if len(example['ch']) < 100 or len(example['en']) < 150:\n",
    "        continue\n",
    "    conversation = []\n",
    "\n",
    "    conversation.append(\n",
    "        {\"role\": \"user\", \"content\": f\"{random.choice(prompts)}{example['en']}\"})\n",
    "    conversation.append({\"role\": \"assistant\", \"content\": example['ch']})\n",
    "\n",
    "    example = {\n",
    "        \"id\": hash(example[\"en\"]),\n",
    "        \"conversations\": conversation\n",
    "    }\n",
    "    file.write(json.dumps(example, ensure_ascii=False) + \"\\n\")\n",
    "file.close()"
   ]
  },
  {
   "cell_type": "markdown",
   "metadata": {},
   "source": [
    "# HF Datasets"
   ]
  },
  {
   "cell_type": "code",
   "execution_count": 11,
   "metadata": {},
   "outputs": [
    {
     "name": "stderr",
     "output_type": "stream",
     "text": [
      "Saving the dataset (1/1 shards): 100%|██████████| 4909/4909 [00:00<00:00, 152648.49 examples/s]\n"
     ]
    }
   ],
   "source": [
    "dataset = load_dataset(\"Heng666/Traditional_Chinese-aya_dataset\", cache_dir='.cache/', split='train')\n",
    "\n",
    "def convert_format(example):\n",
    "    conversation = []\n",
    "    conversation.append({\"content\": example['inputs'], \"role\": \"user\"})\n",
    "    conversation.append({\"content\": example['targets'], \"role\": \"assistant\"})\n",
    "\n",
    "    return {\n",
    "        \"id\": hash(example[\"inputs\"]),\n",
    "        \"conversations\": conversation,\n",
    "        # meta = other key/val pairs as json string\n",
    "        \"meta\": json.dumps({k: v for k, v in example.items() if k not in ['inputs', 'targets']})\n",
    "    }\n",
    "\n",
    "dataset = dataset.map(convert_format, remove_columns=dataset.column_names, num_proc=30)\n",
    "dataset.save_to_disk(os.path.join(instruction_base_dir, \"aya_dataset\"))"
   ]
  }
 ],
 "metadata": {
  "kernelspec": {
   "display_name": ".venv",
   "language": "python",
   "name": "python3"
  },
  "language_info": {
   "codemirror_mode": {
    "name": "ipython",
    "version": 3
   },
   "file_extension": ".py",
   "mimetype": "text/x-python",
   "name": "python",
   "nbconvert_exporter": "python",
   "pygments_lexer": "ipython3",
   "version": "3.10.12"
  }
 },
 "nbformat": 4,
 "nbformat_minor": 2
}
